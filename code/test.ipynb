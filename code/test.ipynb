{
 "metadata": {
  "language_info": {
   "codemirror_mode": {
    "name": "ipython",
    "version": 3
   },
   "file_extension": ".py",
   "mimetype": "text/x-python",
   "name": "python",
   "nbconvert_exporter": "python",
   "pygments_lexer": "ipython3",
   "version": "3.8.3"
  },
  "orig_nbformat": 2,
  "kernelspec": {
   "name": "python3",
   "display_name": "Python 3.8.3 64-bit ('base': conda)",
   "metadata": {
    "interpreter": {
     "hash": "b3ba2566441a7c06988d0923437866b63cedc61552a5af99d1f4fb67d367b25f"
    }
   }
  }
 },
 "nbformat": 4,
 "nbformat_minor": 2,
 "cells": [
  {
   "cell_type": "code",
   "execution_count": 1,
   "metadata": {},
   "outputs": [],
   "source": [
    "import numpy as np\n",
    "from matplotlib import pyplot as plt\n",
    "import pickle\n",
    "import glob\n",
    "from review import Review\n",
    "from preprocess import Preprocess\n",
    "import pandas as pd\n",
    "import seaborn as sn\n",
    "%matplotlib inline"
   ]
  },
  {
   "cell_type": "code",
   "execution_count": 2,
   "metadata": {},
   "outputs": [
    {
     "output_type": "execute_result",
     "data": {
      "text/plain": [
       "   0  index  helpfulness review_title  total_hours  diff_date  \\\n",
       "0  0      0           81           推荐          0.7         34   \n",
       "1  1      1           19          不推荐         11.2       1098   \n",
       "2  2      2           13          不推荐         41.4       1226   \n",
       "3  3      3           22           推荐         29.4         52   \n",
       "4  4      4           14           推荐         20.6         26   \n",
       "\n",
       "                                        text_content                user_name  \\\n",
       "0  20190617更新所谓官方，居然恬不知耻的跑到这里来威胁评测者，不仅不懂法律而且恶意威胁，...                     月光疾风   \n",
       "1                                       客服的态度仿佛我杀了他妈                      さに様   \n",
       "2  论坛上那是什么狗币客服   天天怼玩家  有你吗这时间还不如多修修你的BUGsteam上面的...               patriceent   \n",
       "3  这是一篇带有主观看法的评测。 这是一款出色的海战游戏，也是本世代海战游戏的先驱者和奠基人。 ...  Rhonin_Seiei@上次在线：10天以前   \n",
       "4  虽然在出潜艇后我弃坑了，但是不得不说，这是永远永远永远的经典。。。我的童年就是这游戏陪伴我度过的。                    方方小次郎   \n",
       "\n",
       "   game_count  comment_count   xp  review_count  friend_count  \n",
       "0          92              4    0             0             0  \n",
       "1          78              0   50             8            10  \n",
       "2           2              0    0             1             5  \n",
       "3         289              1  500             6            46  \n",
       "4         107              0  100            11            32  "
      ],
      "text/html": "<div>\n<style scoped>\n    .dataframe tbody tr th:only-of-type {\n        vertical-align: middle;\n    }\n\n    .dataframe tbody tr th {\n        vertical-align: top;\n    }\n\n    .dataframe thead th {\n        text-align: right;\n    }\n</style>\n<table border=\"1\" class=\"dataframe\">\n  <thead>\n    <tr style=\"text-align: right;\">\n      <th></th>\n      <th>0</th>\n      <th>index</th>\n      <th>helpfulness</th>\n      <th>review_title</th>\n      <th>total_hours</th>\n      <th>diff_date</th>\n      <th>text_content</th>\n      <th>user_name</th>\n      <th>game_count</th>\n      <th>comment_count</th>\n      <th>xp</th>\n      <th>review_count</th>\n      <th>friend_count</th>\n    </tr>\n  </thead>\n  <tbody>\n    <tr>\n      <th>0</th>\n      <td>0</td>\n      <td>0</td>\n      <td>81</td>\n      <td>推荐</td>\n      <td>0.7</td>\n      <td>34</td>\n      <td>20190617更新所谓官方，居然恬不知耻的跑到这里来威胁评测者，不仅不懂法律而且恶意威胁，...</td>\n      <td>月光疾风</td>\n      <td>92</td>\n      <td>4</td>\n      <td>0</td>\n      <td>0</td>\n      <td>0</td>\n    </tr>\n    <tr>\n      <th>1</th>\n      <td>1</td>\n      <td>1</td>\n      <td>19</td>\n      <td>不推荐</td>\n      <td>11.2</td>\n      <td>1098</td>\n      <td>客服的态度仿佛我杀了他妈</td>\n      <td>さに様</td>\n      <td>78</td>\n      <td>0</td>\n      <td>50</td>\n      <td>8</td>\n      <td>10</td>\n    </tr>\n    <tr>\n      <th>2</th>\n      <td>2</td>\n      <td>2</td>\n      <td>13</td>\n      <td>不推荐</td>\n      <td>41.4</td>\n      <td>1226</td>\n      <td>论坛上那是什么狗币客服   天天怼玩家  有你吗这时间还不如多修修你的BUGsteam上面的...</td>\n      <td>patriceent</td>\n      <td>2</td>\n      <td>0</td>\n      <td>0</td>\n      <td>1</td>\n      <td>5</td>\n    </tr>\n    <tr>\n      <th>3</th>\n      <td>3</td>\n      <td>3</td>\n      <td>22</td>\n      <td>推荐</td>\n      <td>29.4</td>\n      <td>52</td>\n      <td>这是一篇带有主观看法的评测。 这是一款出色的海战游戏，也是本世代海战游戏的先驱者和奠基人。 ...</td>\n      <td>Rhonin_Seiei@上次在线：10天以前</td>\n      <td>289</td>\n      <td>1</td>\n      <td>500</td>\n      <td>6</td>\n      <td>46</td>\n    </tr>\n    <tr>\n      <th>4</th>\n      <td>4</td>\n      <td>4</td>\n      <td>14</td>\n      <td>推荐</td>\n      <td>20.6</td>\n      <td>26</td>\n      <td>虽然在出潜艇后我弃坑了，但是不得不说，这是永远永远永远的经典。。。我的童年就是这游戏陪伴我度过的。</td>\n      <td>方方小次郎</td>\n      <td>107</td>\n      <td>0</td>\n      <td>100</td>\n      <td>11</td>\n      <td>32</td>\n    </tr>\n  </tbody>\n</table>\n</div>"
     },
     "metadata": {},
     "execution_count": 2
    }
   ],
   "source": [
    "path = 'C:/Users/cyuuu/Desktop/xuxu/steam_reviews/data/minidata.csv'\n",
    "data = Review(path)\n",
    "data.row.head()"
   ]
  }
 ]
}