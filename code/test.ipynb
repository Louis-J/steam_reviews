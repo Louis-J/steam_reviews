{
 "metadata": {
  "language_info": {
   "codemirror_mode": {
    "name": "ipython",
    "version": 3
   },
   "file_extension": ".py",
   "mimetype": "text/x-python",
   "name": "python",
   "nbconvert_exporter": "python",
   "pygments_lexer": "ipython3",
   "version": "3.8.3"
  },
  "orig_nbformat": 2,
  "kernelspec": {
   "name": "python3",
   "display_name": "Python 3.8.3 64-bit ('base': conda)",
   "metadata": {
    "interpreter": {
     "hash": "b3ba2566441a7c06988d0923437866b63cedc61552a5af99d1f4fb67d367b25f"
    }
   }
  }
 },
 "nbformat": 4,
 "nbformat_minor": 2,
 "cells": [
  {
   "cell_type": "code",
   "execution_count": 1,
   "metadata": {},
   "outputs": [],
   "source": [
    "import numpy as np\n",
    "from matplotlib import pyplot as plt\n",
    "import pickle\n",
    "import glob\n",
    "from review import Review\n",
    "from preprocess import Preprocess\n",
    "import pandas as pd\n",
    "import seaborn as sn\n",
    "%matplotlib inline"
   ]
  },
  {
   "source": [
    "# 导入csv格式的数据并查看"
   ],
   "cell_type": "markdown",
   "metadata": {}
  },
  {
   "cell_type": "code",
   "execution_count": 2,
   "metadata": {},
   "outputs": [
    {
     "output_type": "execute_result",
     "data": {
      "text/plain": [
       "   0  index  helpfulness review_title  total_hours  diff_date  \\\n",
       "0  0      0           81           推荐          0.7         34   \n",
       "1  1      1           19          不推荐         11.2       1098   \n",
       "2  2      2           13          不推荐         41.4       1226   \n",
       "3  3      3           22           推荐         29.4         52   \n",
       "4  4      4           14           推荐         20.6         26   \n",
       "\n",
       "                                        text_content                user_name  \\\n",
       "0  20190617更新所谓官方，居然恬不知耻的跑到这里来威胁评测者，不仅不懂法律而且恶意威胁，...                     月光疾风   \n",
       "1                                       客服的态度仿佛我杀了他妈                      さに様   \n",
       "2  论坛上那是什么狗币客服   天天怼玩家  有你吗这时间还不如多修修你的BUGsteam上面的...               patriceent   \n",
       "3  这是一篇带有主观看法的评测。 这是一款出色的海战游戏，也是本世代海战游戏的先驱者和奠基人。 ...  Rhonin_Seiei@上次在线：10天以前   \n",
       "4  虽然在出潜艇后我弃坑了，但是不得不说，这是永远永远永远的经典。。。我的童年就是这游戏陪伴我度过的。                    方方小次郎   \n",
       "\n",
       "   game_count  comment_count   xp  review_count  friend_count  \n",
       "0          92              4    0             0             0  \n",
       "1          78              0   50             8            10  \n",
       "2           2              0    0             1             5  \n",
       "3         289              1  500             6            46  \n",
       "4         107              0  100            11            32  "
      ],
      "text/html": "<div>\n<style scoped>\n    .dataframe tbody tr th:only-of-type {\n        vertical-align: middle;\n    }\n\n    .dataframe tbody tr th {\n        vertical-align: top;\n    }\n\n    .dataframe thead th {\n        text-align: right;\n    }\n</style>\n<table border=\"1\" class=\"dataframe\">\n  <thead>\n    <tr style=\"text-align: right;\">\n      <th></th>\n      <th>0</th>\n      <th>index</th>\n      <th>helpfulness</th>\n      <th>review_title</th>\n      <th>total_hours</th>\n      <th>diff_date</th>\n      <th>text_content</th>\n      <th>user_name</th>\n      <th>game_count</th>\n      <th>comment_count</th>\n      <th>xp</th>\n      <th>review_count</th>\n      <th>friend_count</th>\n    </tr>\n  </thead>\n  <tbody>\n    <tr>\n      <th>0</th>\n      <td>0</td>\n      <td>0</td>\n      <td>81</td>\n      <td>推荐</td>\n      <td>0.7</td>\n      <td>34</td>\n      <td>20190617更新所谓官方，居然恬不知耻的跑到这里来威胁评测者，不仅不懂法律而且恶意威胁，...</td>\n      <td>月光疾风</td>\n      <td>92</td>\n      <td>4</td>\n      <td>0</td>\n      <td>0</td>\n      <td>0</td>\n    </tr>\n    <tr>\n      <th>1</th>\n      <td>1</td>\n      <td>1</td>\n      <td>19</td>\n      <td>不推荐</td>\n      <td>11.2</td>\n      <td>1098</td>\n      <td>客服的态度仿佛我杀了他妈</td>\n      <td>さに様</td>\n      <td>78</td>\n      <td>0</td>\n      <td>50</td>\n      <td>8</td>\n      <td>10</td>\n    </tr>\n    <tr>\n      <th>2</th>\n      <td>2</td>\n      <td>2</td>\n      <td>13</td>\n      <td>不推荐</td>\n      <td>41.4</td>\n      <td>1226</td>\n      <td>论坛上那是什么狗币客服   天天怼玩家  有你吗这时间还不如多修修你的BUGsteam上面的...</td>\n      <td>patriceent</td>\n      <td>2</td>\n      <td>0</td>\n      <td>0</td>\n      <td>1</td>\n      <td>5</td>\n    </tr>\n    <tr>\n      <th>3</th>\n      <td>3</td>\n      <td>3</td>\n      <td>22</td>\n      <td>推荐</td>\n      <td>29.4</td>\n      <td>52</td>\n      <td>这是一篇带有主观看法的评测。 这是一款出色的海战游戏，也是本世代海战游戏的先驱者和奠基人。 ...</td>\n      <td>Rhonin_Seiei@上次在线：10天以前</td>\n      <td>289</td>\n      <td>1</td>\n      <td>500</td>\n      <td>6</td>\n      <td>46</td>\n    </tr>\n    <tr>\n      <th>4</th>\n      <td>4</td>\n      <td>4</td>\n      <td>14</td>\n      <td>推荐</td>\n      <td>20.6</td>\n      <td>26</td>\n      <td>虽然在出潜艇后我弃坑了，但是不得不说，这是永远永远永远的经典。。。我的童年就是这游戏陪伴我度过的。</td>\n      <td>方方小次郎</td>\n      <td>107</td>\n      <td>0</td>\n      <td>100</td>\n      <td>11</td>\n      <td>32</td>\n    </tr>\n  </tbody>\n</table>\n</div>"
     },
     "metadata": {},
     "execution_count": 2
    }
   ],
   "source": [
    "path = 'C:/Users/cyuuu/Desktop/xuxu/steam_reviews/data/minidata.csv'\n",
    "data = Review(path)\n",
    "data.raw.head()"
   ]
  },
  {
   "source": [
    "# 数据预处理"
   ],
   "cell_type": "markdown",
   "metadata": {}
  },
  {
   "cell_type": "code",
   "execution_count": 3,
   "metadata": {},
   "outputs": [
    {
     "output_type": "stream",
     "name": "stderr",
     "text": [
      "Building prefix dict from the default dictionary ...\n",
      "Loading model from cache C:\\Users\\cyuuu\\AppData\\Local\\Temp\\jieba.cache\n",
      "Loading model cost 0.663 seconds.\n",
      "Prefix dict has been built successfully.\n"
     ]
    }
   ],
   "source": [
    "stop_words_path = \"../extra_dict/baidu_stopwords.txt\" # 停用词的地址\n",
    "# filter_p = re.compile(r'[^\\u4e00-\\u9fa50-9A-Za-z]') # 去除特殊字符\n",
    "pattern = r'[^\\u4e00-\\u9fa5A-Za-z]' # 删除所有标点符号，数字和特殊字符\n",
    "pre = Preprocess(data.raw[\"text_content\"], stop_words_path, pattern)"
   ]
  },
  {
   "cell_type": "code",
   "execution_count": 4,
   "metadata": {},
   "outputs": [
    {
     "output_type": "execute_result",
     "data": {
      "text/plain": [
       "['更新 官方 居然 恬不知耻 不知 知耻 跑 里来 威胁 评测 不 懂法 法律 恶意 威胁 强盗 式 逻辑 都 情况 上交 交给 steam 官方 建议 贵方 留 下地 地址 邮箱 我会 会考 贵方 发送 律师 律师函 起诉 恐吓 威胁 法院 见 分割 分割线 割线 更新 哈哈哈 哈哈哈哈 哈哈哈 官方 来回 回复 官方 嘴脸 不 说 平台 所有人 有人 diss 极品 提 人 不 不想 想去 本人 人大 大部 大部分 分时 时间 美 服玩 九 玩家 交集 并不多 不多 请 酷 派 天空 嘴脸 请问 运营 放心 顺带 提 再 回 坑 Navyfield 青春 回忆 人 毁 修改 改回 回答 北美 NavyfieldMOD 管理 管理员 身份 正式 声明 明为 财产 损失 不 建议 玩家 入 坑 酷 派 大海 大海战 海战 战舰 舰队 使命 分割 分割线 割线 更新 介于 美 服 国内 服 经合 合并 并以 运营 运营商 营商 劣迹 斑斑 事迹 不再 推荐 详情 建议 去 大海 大海战 海战 情况 想 玩 海战 WOWS WT 都 选择 至少 两家 正规 游戏 运营 运营商 营商 NavyField 这款 游戏 只能 能留 留在 玩家 记忆 中 分割 分割线 割线 国 服 年 入 坑 美 服 年 入 坑 做 两年 美 服 MODGM 贴 名 仙剑 月光 疾风 只 想 看 游戏 优缺点 缺点 入 不入 坑 跳转 想 看 一个 老 玩家 碎 碎 念 无视 碎 碎 念 笔者 初中 中时 入 坑 一张 月 卡 还 没玩 玩完 拉进 万恶 军训 高考 监狱 大学 学时 回 坑 年 年初 赶在 和服 后进 进驻 Nebraska 服务 服务器 务器 见证 最早 华夏 Iron 联盟 兴盛 经历 历年 GM 疯狂 ban 号 玩 多年 号 ban 解封 当过 两年 mod 理过 Chinglish 中文 ticket 帮 国人 港 打过 国人 港 见 国人 联合 港 比赛 国人 贴 QQ 撕 逼 国人 联合 港 比赛 国人 贴 QQ 撕 逼 国人 联合 港 国人 贴 QQ 撕 逼 循环 加过 乱七八糟 七八 糟得 美国 国人 菲律宾 菲律宾人 波兰 波兰人 日本 本人 舰队 NavyField 官方 水晶 纪念 杯 结交 很多 多国 国内 国内外 内外 朋友 交换 换过 skype qq 很多 人 失 联 仍 很多 朋友 还 玩 游戏 喜欢 一匹 独 狼 至少 不用 QQ 群 轰炸 笑 没错 NavyField 适 不适 适合 游戏 不 喜欢 WOWS 那种 D 模式 花 一点 一点点 点点 时间 研究 游戏 适合 游戏 不 历史 不 真实 想象 Ki 航空 空战 战列舰 Atago 上起 起降 一个 次 元 不乏 乐趣 玩惯 MOBA 享受 或许 不错 错配 船 配 兵 WOWS 自由 不少 不晓 晓得 crash 改进 游戏 毕竟 十几 十几年 几年 忍受 交战 过程 中正 乘胜 乘胜追击 追击 一发 客户 客户端 crash 断线 重 GG 或许 真 适合 游戏 人 不怎么 GB bliz 房 找 不到 房间 同学 建议 点 偏上 图标 选择 battleareaarea 而其 人 mod 无差别 差别 封禁 寒 无数 老 玩家 心 现任 mod 确实 想入 坑 同学 务必 提起 这段 黑 历史 问 本人 会 入 坑 只能 说 很多 东西 终将 人 游戏 都 会点 推荐 只为 青春 青春岁月 岁月 回忆',\n",
       " '客服 态度 仿佛 杀 妈',\n",
       " '论坛 上 狗 币 客服 天天 怼 玩家 时间 还 修修 BUGsteam 客服 倒 很 客气 没',\n",
       " '一篇 带有 主观 观看 看法 评测 一款 出色 海战 游戏 世代 海战 游戏 先驱 先驱者 奠基 奠基人 NavyField 国内 大海 大海战 海战 II 打开 steam 收到 海 推送 惊喜 一款 老 游戏 一款 老 游戏 一款 老 游戏 NF 一款 出色 海战 游戏 很多 人 童年 年青 青年 回忆 古老 游戏 古老 画面 像素 颗粒 颗粒感 不 友善 引导 界面 观察 观察出来 习惯 会 感觉 界面 很 舒服 这款 游戏 黄金 黄金时代 时代 多年 年后 还 美 服 运营 活跃 轻易 易地 发起 大型 战 堪称 称奇 奇迹 与此 NF 美 服 GM 支持 中文 NF 美 服 GM 支持 中文 如前 前文 所说 NF 国内 经由 九 合 天下 下代 代理 大海 大海战 海战 大部 大部分 中文 文玩 玩家 都 来自 国 服 老 玩家 来自 世界 世界各地 地区 服务 服务器 务器 老 NF 玩家 老 玩家 来说 游戏 评测 不重 海 很 令人 感到 篇 评测 面向 新 玩家 大部 大部分 新 玩家 来讲 这款 游戏 画面 画面 画面 最新 操作 操作系统 系统 windows 上 运行 稳定 稳定性 定性 最新 操作 操作系统 系统 windows 上 运行 稳定 稳定性 定性 最新 操作 操作系统 系统 windows 上 运行 稳定 稳定性 定性 不支 支持 原生 全屏 上手 难度 新手 引导 友善 官方 官方网 官方网站 网站 社区 布局 快速 大型 舰艇 大 衣阿华 现今 网游 截然 截然不同 水兵 乘员 系统 历史 考证 细节 真实 真实度 大型 舰艇 小型 船只 平衡 NF 小船 高级 科技 树 级 max 例 驱逐 级 到头 第一 一三 人称 射击 NF a 音乐 b 系统 综合 合度 c 游戏 复杂性 d 数值 多样 多样性 e 战术 策略 策略性 伪 上帝 视角 类似 WOWS 航母 f 自由 自由度 都 出色 表现 系统 的确 出色 用户 接受 接受度 体验 优化 上战 战舰 世界 游戏 这方 这方面 升级 改进 变得 更 人性 人性化 自由 自由度 如在 NF 中 高度 自定 自定义 定义 舰艇 武装 包括 大船 扛 小 炮 国家 自定 自定义 定义 装甲 引擎 CL 带 CV 引擎 WOWS 游戏 中 指定 船体 常有 有限 选择 游戏 变得 简单 同理 航母 自定 自定义 定义 每队 飞机 数量 这方 这方面 自由 自由度 不适 适合 玩家 这方 这方面 自由 自由度 不适 适合 玩家 WOWS 九 合 自制 海战 传奇 NF 续 作 NF 美 服 停运 WT 海战 模式 搜狐 畅游 海战 世界 游戏 都 程度 借鉴 NF 系统 诸 元 优化 这方 这方面 NF 本身 一项 优势 一种 先行 先行者 行者 足迹 丰碑 年 依然 一款 出色 游戏 却 一款 适合 大部 大部分 人 玩 游戏 win 玩家 还要 要使 虚拟 虚拟机 玩笑 想 体验 高 自由 自由度 舰艇 武装 快节奏 节奏 即兴 规划 航母 战术 战列舰 击 秒杀 快感 找 虐 海战 战网 网络 网络游戏 游戏 中 堪称 经典 音乐 亦 仅仅 这款 传奇 老 游戏 海战 战网 网游 先驱 先驱者 敬仰 情 我会 推荐 大海 大海战 海战 IINavyField 一款 出色 海战 游戏 最 喜欢 海战 游戏 想 再 带 BGM 看 闪 绿 圈 红 圈 母港 港界 界面 谢谢',\n",
       " '出 潜艇 后 弃 坑 不得不 说 永远 永远 永远 经典 童年 游戏 陪伴 度过',\n",
       " '游戏 脑 残 运营 运营商 营商 把玩 玩家 称之为 之为 犯罪 犯罪分子 分子 犯罪 犯罪团伙 团伙 代理 代理商 利益 矛盾 封 月 充值 账号 国 服 自成 一系 让玩家 玩家 充 等额 钱 才能 能解 解封 群 参加 活动 最多 五万 五万多 万多 三万 三万多 万多 多一两 一两 一两万 两万 都 封 几千 不用 不用说 还 论坛 里 公然 嘲讽 玩家 玩 傻 逼',\n",
       " '注册 游戏 账号 个人信息 信息 太多 不 希望 个人信息 信息 交到 游戏 商家 游戏 账号 导致 玩到 游戏 打差 评',\n",
       " '看 酷 派 天空 啧啧 碰 碰 玩 GTASA 都 酷 派 天空 黑暗',\n",
       " '游戏 骗 个人信息 信息 骗到 身份 身份证 身份证号 证号 证号码 号码 电子 电子邮箱 邮箱 号 姓名 注册 账号 后 激活 活不了 不了 游戏 玩 不 STEAM 协助 骗子 诈骗',\n",
       " '测评 面向 原 中国 服务 服务器 务器 玩家 家中 中国 玩家 一度 全球 海战 玩家 群体 代理 代理商 九 合 天下 运营 管理 失误 误国 服玩 玩家 流失 希望 更多 中国 玩家 测评 回归 归海 海战 美 服 重拾 当年 热血 激情 美 服 国 服 相比 以下几点 几点 美 服 路线 船 都 能用 海 币 购买 包括 bb 传奇 战舰 售价 万 海 币 万 海 点 美 服 数据 国 服 很大 国 服 中 损害 游戏 平衡 意大利 大利 船 数据 不 太 出水 水兵 上限 国 服 详见 美 服 官 网 意味 意味着 美 服 平衡 平衡性 好 国 服 美 服 极为 负责 高效 管理 团队 负责 玩家 沟通 发布 信息 信息处理 举报 求助 违反 游戏 游戏规则 规则 乱 踢 人人 人身 人身攻击 攻击 都 会 妥善 妥善处理 善处 美 服 尖兵 兵学 学院 不 耗费 时间 金钱 调整 水兵 属性 美 服 舰船 更多 多例 pssebbecvbb 都 国 服 中 意味 意味着 美 服 可玩性 玩性 提升 美 服 取消 交易 交易系统 系统 担心 新 帐号 启动 启动资金 资金 美 服 调高 初始 海 币 黄 兵 属性 暂时 想到 再补 补充 祝 生活 愉快 事事 顺心 gameIDssniwanttogettheIJNecv',\n",
       " '游戏 没 玩 封号 不 讲 证据 客服 一句 话 爱玩 玩玩 不 玩 滚 反正 韭菜 割完',\n",
       " '重温 卸 都 不出 高清 清版 窗口 下 一小 一小块 小块 如今 真 没法 玩 二 当年 保利 万向 代理 阵 老 丢 船 保利 利马 马耳他 计划 大 II 加贺 狮 II 船 几年 没玩 回去 看 全 丢 再 玩 一遍 如今 转战 战舰 世界 三年 美英 英法 三国 线 艘 级 船 战舰',\n",
       " '游戏 初中 接触 第一 第一款 一款 海战 说 很 享受 炮弹 精心 心计 计算 角度 划过 一条 漂亮 抛物 抛物线 砸 中 敌船 感受 游戏 前期 难熬 后期 游戏 游戏性 简直 完 爆 战争 游戏 游戏 活 年 原因',\n",
       " '游戏 好 游戏 运营 运营商 营商 老板 像是 草 妈 样态 态度 态度恶劣 恶劣',\n",
       " '说 东西 留在 回忆 里 算了 运营 很 难 提供 游戏 体验 弄 一晚 晚上 没 登录 录成 成功 实名 认证 两个 小时 没 审核 完 一句 话',\n",
       " '激活 账号 都 还要 单独 QQ 还 说 电脑 充满 危险 很 情怀 很 不 推荐 垃圾',\n",
       " '没人 会 玩 全 老鸟',\n",
       " '看 评论 说 两句 句首 游戏 年 游戏 爷爷 很多 弊端 当初 设计 改 只能 做 没办 办法 想 怀旧 只能 忍忍 代理 代理商 说 有时候 说话 厉 cao 害 dan 无关 无关大局 大局 反正 断断 断断续续 断续 续 玩 两年 没 碰到 解决 都 解决 氪 不 氪 金 很 负责 告诉 老 游戏 看 技术 氪 金 没什么 大 关系 氪 会 更好 体验 不 氪 技术 好 牛 逼 很多 游戏 数据 精准 精准度 准度 都 上限 解释 麻烦 去 论坛 明白 反正 怀旧 来说 给予 肯定 稳定 定做 行 听到 大雄 说',\n",
       " '不得不 说 游戏 很 贴心 第二 第二次 二次 评论 献给 这款 游戏 商店 店里 这款 游戏 心情 激动 下载 完 后 打开 开会 会弹 弹出 一个 黄色 框框 写 反作弊 作弊 系统 反作弊 作弊 系统 初始 初始化 完 后 steam wallpaperengine 贴心 心地 暴力 关闭 游戏 不知 注册 百度 打开 firefox 反作弊 作弊 系统 玩游 玩游戏 游戏 分心 居然 强行 卡死 firefox 导致 攒 几个 月 浏览 历史 几十 几十个 十个 打开 标签 页 都 灰飞烟灭 注 百度 下发 发现 游戏 自带 一款 病毒 韩国 反作弊 作弊 系统 nProtectGamaGuard 会 电脑 里 进程 里 注入 钩子 强行 关闭 威胁 进程 退出 出游 游戏 再次 打开 浏览 浏览器 酷 派 天空 玩家 社区 一个 看起 看起来 像是 年前 中英 混杂 怀旧 页面 迷宫 网站 站里 找到 注册 账号 地方 大致 说 下注 注册 流程 要用 微 信 关注 一个 公众 号 再 填写 手机 手机号 手机号码 机号码 号码 注册 保证 游戏 体验 实名 认证 身份 身份证 身份证号 证号 姓名 最重 账号 注册 完 还 激活 太 激动 登录 游戏 会 提示 账号 不存 未激活 激活 贴心 前端 激活 活页 页面 下 添加 金币 充值 页面 橙 字 提醒 页面 酷 豆 兑换 换成 游戏 金币 请 选择 兑换 金额 一经 兑换 概不 不退 退换 页面 面会 提示 浏览 浏览器 关闭 JS 功能 网页 显示 会 不正 请 修改 JS 设置 更换 浏览 浏览器 不 影响 至此 账号 激活 成功 注 网站 站里 填写 个人信息 信息 学历 收入 公司 司职 职位 联系方式 方式 邮编 邮寄 地址 刚才 绑定 手机 手机号 默认 全 公开 游戏 发现 国家 名称 都 和谐 成 很 艺术 感 名字 金 鹰 山猫 舰艇 名称 贴心 心地 改成 国籍 等级 命名 金 鹰 战 列 级 成教 教程 后 第一 第一场 一场 刚 进 游戏 一阵 密集 炮弹 秒 逛 一趟 论坛 才 发现 游戏 里 全属 属性 水兵 开 挂 雷达 出售 东西 西都 明码 明码标价 标价 概率 公开 抽奖 不得不 说 酷 派 天空 抽奖 系统 统还 很 完善 至少 买 钥匙 开箱 箱子 砸 金蛋 大转盘 转盘 开宝 宝箱 里 懵 逼 半天 种 都 试 抽 几十 几十次 十次 无一例外 一例 例外 每次 都 酷 币 X 这款 游戏 是非 非常适合 适合 人 傻 钱 玩家 注 想 跳 steam 启动 游戏 会 发现 游戏 图标 一模一样 启动 启动器 右键 属性 会 发现 版权 上 写 CopyrightMicrosoft 想得到 steam 游戏 时间 断 网 运行 启动 启动器 加载 完 后 steam 游戏 已 退出',\n",
       " '翻 官 网上 网上商店 商店 一个 一个多 小时 小时候 后 终于 找到 找到 新手 手包 配齐 齐一 一条 船 级 精英 水兵 兵分 战 列 潜艇 航母 三个 独立 包 价格 包金 金币 不算 首 充 双倍 价位 值得 见仁 见仁见智 反正 白 嫖 没法 玩 不 推荐 上次 评测 萌 新 薄 皮 驱逐 DD 打闪 闪电 闪电战 理解 低级 区 一大 一大堆 大堆 速度 护 甲 血量 碾压 CLCA 平 推 萌 新 FF 鱼雷 都 CLCA 玩家 不屑 不屑于 瞄准 目测 挂机 游戏 体验 还 四 六个 小时 老 游戏 设计 计有 缺陷 不错 情怀 免费 算 吸引 新 玩家 优点 敢 问 入门 礼包 氪 一百 一百几十 几十 新 玩家 浪费 浪费时间 费时 费时间 时间 前期 挂机 机上 入门 礼包 核心 船只 一套 二三 二三十 三十 三十级 十级 级 能开 开上 主流 船只 水兵 当是 一个 国家 好 官 网上 人民 人民币 金币 一个 开 一条 船 至少 水兵 级 水兵 金币 年 卡 还要 贵 也就是说 级 挨打 时间 价值 首 充 双倍 算 没看 看错 游戏 还 上班 还 赚钱 核心 新人 年代 竞技 网游 难题 难得 STEAM 上 消费 风气 还 以其 没 要死 抱 十年 年前 运营 定价 思路 玩',\n",
       " '老 游戏 永远 经典 永远 支持 NAVYFIELD 游戏 IDqq',\n",
       " '免费 获取 产品 公测 玩玩 十几 十几年 几年',\n",
       " '贴 黑粉 说 不 游戏 肝 肝 氪 白 嫖 玩 不错 氪 金 一个 好 肝 最差 差劲 客服 一副 欠 钱 嘴脸 说 全 实 锤打 脸 还 死不承认 承认',\n",
       " '狗屎 运营 运营商 营商 还 没死',\n",
       " '喜欢 撸 大海 大海战 海战',\n",
       " '游戏 好 游戏 代理 代理商 真他妈 垃圾 一周 不 回复 复工 单 情况 时有发生 发生 生还 屌 逼 动不动 不动 爱玩 玩玩 不 玩 滚',\n",
       " '游戏 最 致命 缺陷 在于 下 碾压 随之 随之而来 而来 挤压 新手 手生 生存 生存空间 空间 老鸟 回归 前期 挨打 打倒 习惯 接触 游戏 新 玩家 挨 几顿 也许 再也 再也不会 打开 游戏 画面 落后 操作 作难 难度 大 反而 太大',\n",
       " '游戏 过于 于高端 高端 新人 不 太 友好 建议 完善 新手 教程 优化 界面 出港 后 找 不到 回港 选项 水兵 级 后 选择 国家 购买 新 战舰 新手 教程 确实 实是 经典 与时俱进',\n",
       " '破 几把 游戏 坑 狗 游戏 太 几把 烂 煞笔 客服 妈 人 轮 一帮 大 傻 逼 酷 派 天空 更 傻 逼 一帮 大 傻 逼 都 妈 傻 逼',\n",
       " '建议 玩 客服 乱 封号 花 多少钱',\n",
       " '不 修 游戏 恶性 Bug Bug 包括 遗留 数十 数十年 十年 新 良性 Bug 倒 秒 修 体验 糟糕 举例 话旧 Bug 下 打上 射程 优势 新 Bug 港口 战 打完 一局 后 清空 弹药 药包 包括 收费 弹药 新 收费 换皮 船 骗 肝 活动 倒 颇 韩国 韩国网 网游 游戏 原型 棒子 子公司 公司 做 支持 人 战 港口 战 除外 二战 海战 题材 网游 始祖 客 制 化 战舰 活动 硬核 操作 作画 画面 差分 分辨 分辨率 辨率 捉 鸡 年 魔兽 魔兽争霸 争霸 都 支持 宽 屏 恶劣 Bug 修复 无望 早期 棒子 子网 网游 机制 海 点 随机 roll 兵 混 游戏 时长 标准 Paytowin 游戏 环境 新人 不 友好 游戏 环境 同级 级别 船只 全由 熟练 练兵 技术 兵数 数量 不 维护 玩家 团体 既得 既得利益 得利 利益 运营 团队 港口 相关 Bug 游戏 更新 带来 港口 Bug 导致 舰队 投资 损失 视而不见 不见 感受 感受一下 EVE 出 bug 导致 POS 里 几年 攒 十几 十几条 几条 TT 没了 找 客服 不 鸟 差不多 不多 感受 PS 差 评 按钮 原因 朋友 推荐 入 坑 这款 游戏 所属 舰队 解散 前 会 玩 游戏 中国 国大 大陆 陆运 运营 国际 服 游戏 违法 雀 魂 不知 拿到 版 号 国产 网游 操作',\n",
       " '免费 获取 产品 emmm 第一 第一次 写 测评 贡献 献给 老 游戏 游戏吧 最早 早接触 接触 游戏 小学 都 参加 加工 工作 海战 类 游戏 没 少 玩 wows 位置 都 玩 几十 几十个 十个 小时 玩 一圈 大海 大海战 海战 好玩 游戏 steam 上架 几个 角度 测评 游戏 游戏 游戏性 大海 大海战 海战 一个 年 老 游戏 苟 游戏 游戏性 自然 数一数 数一数二 一数 数二 足足 国海军 海军 条 线 都 有数 数十 数十条 十条 cvbbss 线 可供 供选择 选择 条 线 bb cv 特性 上 重复 很 肉 E 国中 中庸 A 国手 长 G 国 各国 水兵 晋升 线 国家 转职 时 都 细微 数据 加成 差别 足以 体现 国家 特色 船只 炮 装甲 发动 发动机 动机 侦察 侦察机 机炮 炮弹 种类 diy 只 一条 三炮 炮位 船上 两门 炮 减少 重量 跑 更快 上 更 厚 装甲 一条 船 同人 人手 手里 都 性能 完完全全 全 自控 射击 无论是 射击 方向 角度 齐射 轮 射 都 全由 控制 射击 击落 落点 炮手 能力 值 很多 想到 东西 光 游戏 游戏性 大海 大海战 海战 满分 二 音乐 大海 大海战 海战 bgm 都 换过 说起 几个 国家 港口 都 专属 国家 bgm 很 特色 体现 国家 风格 AE 国 轻松 松明 明快 PG 国 严肃 沉闷 很 好 体现 二战 各国 海军 军风 风貌 大海 大海战 海战 一个 年 游戏 bgm 随动 接近 胜利 时 bgm 会 变得 激昂 血量 低 时会 变得 悲怆 不得不 说 游戏 制作 作人 当初 心 三 画面 要说 游戏 大概 画面 游戏 毕竟 太 老 都 伪 D 度 斜视 视角 模型 时 看得 看得出 很 精细 wows 精致 模型 纯 d 游戏 来说 画面 完完全全 全 碾压 唯一 好处 晕 D 笑 四 pvp 游戏 pve 经验 好处 纯粹 打着 玩 pvp 分房 wows 差不多 不多 对公 公平 不得不 说 老 玩家 真的 新 玩家 吊打 打水 水兵 游戏 pvp 核心 高 基础 高技 高技术 技术 高等 高等级 等级 水兵 玩家 追求 wows 大海 大海战 海战 bb 核心 大部 大部分 bb 玩家 轻松 远处 击杀 dd cl 高等 高等级 等级 dd cl 线 画风 开局 bb 站 成 一排 排在 敌人 极限 射击 外 试探 ddcl 负责 反潜 防空 cv 后方 视野 控制 输出 ss 找 机会 突破 封锁 封锁线 锁线 敌方 后排 突袭 方式 更 贴近 真实 海战 比起 wows 鱼雷 海 好多 五 氪 金 情况 游戏 说 是非 良心 不 花 一分 一分钱 分钱 招到 水兵 买到 船只 没钱 接在 公海 开 房间 老 玩家 都 很 友善 第一 第一天 bb 乞讨 技术 兵 熟练 练兵 想要 金币 船 想 快点 升级 弄 vip 真的 一块 一块钱 块钱 都 不用 花 不知 不知不觉 不觉 写 很多 游戏 算是 儿时 情怀 玩 十来 来年 很 好玩 舷 号 落叶 广告 美 服 CHNB 舰队 都 国人 老 司机 带 玩 qq 群 号 SDIDfangsibo',\n",
       " '免费 获取 产品 玩 很久 画质 都 好',\n",
       " '怀旧 经典 致敬 敬老 玩家 回归 感谢 大熊',\n",
       " '船 水兵 全 没了 不让 人 回归',\n",
       " '年来 来说 画质 眼睛 游戏 多如牛毛 牛毛 BUG 频发 闪 退 解决 充值 规则 活动 推广 倒 国内 大部 大部分 分手 游 网游 层出不穷 促 人 消费 新人 人极 极度 不 友好 新人 先 加 舰队 论坛 看帖 发展 才能 下海 麻烦 硬核 客服 态度 态度恶劣 恶劣 诡异',\n",
       " '下载 不让 登录 网页 连接',\n",
       " '老 海战 玩家 念念 念念不忘 大海 大海战 海战 回来 赞 一个',\n",
       " '很 不错 适合 中老年 中老年人 老年 老年人 消磨 消磨时光 时光',\n",
       " '免费 获取 产品 经典 环境 略有 略有不同 活人 最起码 起码 挂机 脚本 经典 游戏 延续 延续下去 重点 维护 生态 更是 重中之重 好评 加油 努力',\n",
       " '没想 没想到 想到 多年 年后 还 看着 初高中 高中 玩 游戏 进 steam 感慨 感慨万千 万千',\n",
       " '第一 第一次 玩 游戏 中学 学时 时代 代为 青春 再次 扬帆 启航 说实话 实话 网络 好 卡',\n",
       " '年 玩 说',\n",
       " '买 船 情况 船坞 里 都 说 重复 买',\n",
       " '官 网 二维 二维码 篡改 军舰 名 令人 令人作呕 作呕 更新 好好 改 游戏 好好 改 游戏 整 意识 意识形态 形态 游戏 没 改好 好意 意识 意识形态 形态 没 成功 输出 人 不 人 鬼 不 鬼 mrpoppyhead',\n",
       " '少有 硬核 海战 游戏',\n",
       " '年前 游戏 活到 奇迹 进去 开 FF 局 超级 默默 删掉 时代 PS 天才 大海 大海战 海战 国 服 居然 酷 派 天空 买 怪不得 多国 服玩 玩家 美 服 挤 萝卜 猪 啃 地球 OL 炒作 新闻 闻到 还 挂 大 游戏 新闻 新闻网 网站 站上 上好 好意 好意思 还 喜欢 玩完 STEAM 玩 美 服 选择 玩 SerB WOWSXD 才 发现 国际 服 酷 派 狗 啃 外国 外国人 国人 骂声 酷 派 刷 好评 真的 鲜明 对比 大海 大海战 海战 死',\n",
       " 'ThefirstcontactwithnavyfieldwasinithasbeenyearsnowAtthefirstbeginningIplaythegameontheschoolserverthenonthechinaserviceandnowontheUnitedStatesserviceInfactthegameatthebeginningisdiffcultforafreshIevengivenupseveraltimesbutImholdingonandfinditVeryfunnyEspeciallyitssailorsystemwhichcanbebuiltaccordingtoyourneedsyouwillhaveagreatsenseofaccomplishmentwhenitfinishedStronglyrecommendMySDIDjulythIwantausnavyecv',\n",
       " '朋友 做 所为 已 收获 颇丰 不用 再 添砖加瓦 加瓦 事到如今 如今 何必 非要 朋友 分个 高下 楼下 朋友 玩 阁下 观点 赞同 确实 实有 人 发布 些 意义 价值 留言 说 想 删 删 不掉 想 封封 不了 还 可爱 前 皇家 方舟 服务 服务器 务器 zh 福音 留言 已 打开 各位朋友 朋友 nf 已 停 服 游戏 中 最 喜欢 一个 sd 敢 达 优秀 游戏 游戏性 设定 定时 时至今日 至今 今日 堪称 海战 题材 网游 停 服 不配',\n",
       " 'IamveryhappythatnavyfiledcangotothesteamplatformHoppingmorenewplayerscanjoinusTheoldplayerscancomebackLetsenjoythisclassicgametogetherFromdengchushu',\n",
       " '绝 b 游戏 TM 新手 教程 nm 屎 头 TM 不 教 还 nm 护卫 护卫舰 整 没了 出海 都 出 不了 真 nmnp',\n",
       " 'SB 游戏',\n",
       " '酷 派 天空 一个 游戏 商 一个 游戏 商 应有 态度 反倒 只 会 欺负 玩家 怪不得 游戏 没人 玩',\n",
       " '经典 海战 游戏 忠实 老 玩家 感谢 运营 运营商 营商 提供 游戏 平台 好评',\n",
       " '难得 运营 年 海战 游戏 画面 操作 依然 不 输 端 游',\n",
       " '画面 确实 不行 游戏 可玩性 玩性 确实 高 纯白 嫖 不 充值',\n",
       " '大海 大海战 海战 难 人 好玩 音乐 还 不错 远古 古老 游戏 画质 红警 玩 进去 还 挺 有意 有意思 上班 摸鱼 好 选择',\n",
       " 'hao',\n",
       " '玩 十来 来年 念念 念念不忘',\n",
       " 'BestnavalgameevereventhegraphicsisbitdatedbutitdoesntaffectthatitismuchbetterthanothernavalgamenomatterincontrolinstrategyNoneoftheothernavalgamescancompareindepthnoregretplayingthis 海战 游戏 无论是 控制 战术 暂时 海战 游戏 能比 比得 比得上 听说 官方 方准 画面 面上 提升 反正 游戏 玩 肯定 不 后悔',\n",
       " '免费 获取 产品 经典 老 游戏 海战 典型',\n",
       " '',\n",
       " 'steam 版 终于 自定 自定义 定义 spr 海战 好玩',\n",
       " '上 初中 第一 第一次 玩 该是 年 眨眼 年 很 开心 复活 希望 活下去',\n",
       " '不 充 钱 一无是处 充 钱 一无是处 道理 很 简单 没 别人',\n",
       " '经典 延续',\n",
       " '记忆 中 游戏 花 时间 花钱',\n",
       " '多年 没玩 没想 没想到 想到 国际 服',\n",
       " 'IknowthisisagoodgameButIcannotlinktheNFIDwithmysteamaccountMaybenobodyknowswhatisPlayerID',\n",
       " '年 世界 上 还 操作 反 人类 游戏 还 美其名 美其名曰 名曰 硬核 真的 搞笑',\n",
       " '点卡 时代 玩 这款 游戏 如实 实说 界面 是从 玩法 上 都 同类 游戏 中 极品 可惜 代理 玩坏 高级 高级别 级别 船 迟迟 不开 库存 好 点 船 都 要用 点卡 换交 交易 房 都 火爆 物是人非 非再 再次 次登 登录 后 船员 船 都 没了 感觉 很 难过 来看 大海 大海战 海战 有点像 没人 认领 孩子 可怜 代理 代理商 低价 来回 回转 转手 没什么 信心 玩 说不定 不定 换 东家 游戏 画面 高清 重制 画面 细节 再 逼真 情况 只能 怀旧 档 做 游戏 坑 太 深 不 舍得 花钱 做 不',\n",
       " '喜欢 二战 大 舰炮 炮击 玩家 好玩 游戏 简单 会 迷上',\n",
       " '还行 看 个人爱好 爱好 好个 个人爱好 爱好 二战 类型',\n",
       " 'haowan',\n",
       " '免费 获取 产品 很棒 游戏 经典 伪 D 海战 十多 十多年 多年 美好 回忆 硬派 派军 迷 不二 选择 坑 钱 国 服 代理 代理商 狗 合 终于 完蛋 新 代理 代理商 很棒 延续 美 服 体验',\n",
       " '免费 获取 产品 好 海战 类网络 网络 网络游戏 游戏 纯 手动 操作 令人 上瘾 年 当兵 期间 玩 过年 工作 忙 断 年老 玩家 正式 回归 各类 游戏 千千 千千万 千万 感觉 与众不同 同好 游戏',\n",
       " '很棒',\n",
       " '值得 回忆 经典 希望 早日 K 重置',\n",
       " 'singleplayer',\n",
       " '小游戏 游戏 可玩性 玩性 可玩性 玩性 极 低 极 低',\n",
       " '儿时 回忆',\n",
       " '游戏 游戏性 海战 经典 游戏',\n",
       " '当好 海战 游戏 唯一 缺点 舰船 船名 名字 都 删除 还 解下 各国 战舰 说',\n",
       " '老 游戏',\n",
       " '免费 获取 产品 爷 青春 回来',\n",
       " '棒',\n",
       " '值得 玩',\n",
       " '不错 玩 多年',\n",
       " '传世 经典',\n",
       " '老 游戏 很 喜欢 斗方 方式 船只 配置 方式',\n",
       " '游戏 玩 十几 十几年 几年 熟悉 味道 熟悉 老友 熟悉 背景 背景音乐 音乐 音乐网 网游 泛滥 年代 依然 还 那份 感觉 真心 不易',\n",
       " '全屏 显示 好',\n",
       " '很久 很久以前 玩 挺好玩 好玩 海战 游戏',\n",
       " '号',\n",
       " '免费 获取 产品 满满 满满的 回忆 狮子 很硬 百 好像 免费 船 属 Y 国 纳尔逊 都 老衲 Y 防空 机枪 雷声 雷声大 不 R 国 鱼雷 特别 放 鱼船 出门 撒 一大 大片 鱼苗 D 国 侦察 潜艇 SS 出水 机枪 扫 突突 法兰 法兰西 兰西 飞机 核动力 动力 叠好 好几 波 野 海 都 航母 禁 踢 战列舰 BB 最难 上 灰 机 中 线 水下 还要 防 潜艇 可谓 一心 吹 幽灵 幽灵船 水兵 延迟 转 NB 人 很 好 新手 交易 区 一声 大哥 帮帮 帮帮忙 帮忙 不 大佬 都 会 很多 海 币 海 点',\n",
       " '客服 态度 仿佛 杀 亲妈',\n",
       " '大海 大海战 海战 算是 颇 波折 一款 复古 情怀 游戏 辗转 几个 代理 后 落到 酷 派 天空 名号 想起 GTASA 玩家 黎明',\n",
       " '一款 史诗 级 游戏 计算 计算机 计算机设备 算机 机设 机设备 设备 水平 点过 过于 落后 画面 效果 堪 马赛 马赛克 赛克 开发 发到 WIN 兼容 BUG 频出 时不时 不时 闪 退 游戏 刚刚 回归 新人 来说 提升 实力 太 难 唯有 氪 金 正道',\n",
       " '客服 硬核 没话说 太公 公平 太公 公正 太 时间 观念 找 换 船 三天 天才 到手 水兵 都 凉',\n",
       " '刚 回归 发现 几个 BUG 导致 游戏 体验 差 F 顺次 射击 没 SS 居然 只能 齐射 二 居然 没法 全屏 三 窗口 窗口化 导致 往下 下调 调节 视野 很慢 有时候 鼠标 标出 游戏 窗口 希望 早日 修复',\n",
       " '闪 退',\n",
       " '人 太少 房 闪电 闪电战',\n",
       " '玩游 玩游戏 游戏 二十 二十多 二十多年 十多 十多年 多年 第一 第一次 碰到 事情 情真 真的 是非 恼火 真凭实据 实据 情况 下 被判 判定 违规 仅仅 说 一句 违规 对此 付出 出行 客服 唯一 判定 依据 想 封 封 爱玩 玩玩 不 玩 滚 制定 规矩 去 破坏 打着 公平 公正 公开 幌子 招摇 招摇撞骗 撞骗 还 美名 曰 严格管理 管理 掩饰 错误 不予 纠正 玩家 草芥 更何况 多方 多方面 都 负面 评价 更 公正 待遇 几个 玩世 玩世不恭 不恭 人 坐 管理 位子 去 肆意 肆意妄为 妄为 请 责怪 别人 予以 评价 应得',\n",
       " '情怀 游戏 面有 很多 当年 老 玩家 优点 独特 海战 游戏 讲究 战术 团队 配合 不错 游戏 设计 思路 独特 玩法 缺点 点画 画面 老 旧 忍受 请 玩',\n",
       " 'steam 繁体 繁体中文 中文',\n",
       " '太 经典']"
      ]
     },
     "metadata": {},
     "execution_count": 4
    }
   ],
   "source": [
    "pre.token"
   ]
  },
  {
   "source": [
    "# word2vec"
   ],
   "cell_type": "markdown",
   "metadata": {}
  },
  {
   "cell_type": "code",
   "execution_count": 5,
   "metadata": {},
   "outputs": [],
   "source": [
    "from sklearn.feature_extraction.text import TfidfVectorizer\n",
    "# vectorizer = TfidfVectorizer(token_pattern=r\"(?u)\\b\\w+\\b\", max_features =1000, max_df = 0.5, smooth_idf = True)\n",
    "vectorizer = TfidfVectorizer(token_pattern=r\"(?u)\\b\\w+\\b\", max_features=1000, ngram_range=(1,2))"
   ]
  },
  {
   "cell_type": "code",
   "execution_count": 6,
   "metadata": {},
   "outputs": [
    {
     "output_type": "execute_result",
     "data": {
      "text/plain": [
       "(106, 1000)"
      ]
     },
     "metadata": {},
     "execution_count": 6
    }
   ],
   "source": [
    "X = vectorizer.fit_transform(pre.token)\n",
    "X.shape"
   ]
  },
  {
   "source": [
    "# LSA主题建模"
   ],
   "cell_type": "markdown",
   "metadata": {}
  },
  {
   "cell_type": "code",
   "execution_count": 22,
   "metadata": {},
   "outputs": [
    {
     "output_type": "execute_result",
     "data": {
      "text/plain": [
       "2"
      ]
     },
     "metadata": {},
     "execution_count": 22
    }
   ],
   "source": [
    "from sklearn.decomposition import TruncatedSVD\n",
    "svd_model = TruncatedSVD(n_components=2, algorithm='randomized', n_iter=100, random_state=122)\n",
    "svd_model.fit(X)\n",
    "len(svd_model.components_)"
   ]
  },
  {
   "cell_type": "code",
   "execution_count": 23,
   "metadata": {},
   "outputs": [],
   "source": [
    "terms = vectorizer.get_feature_names()"
   ]
  },
  {
   "cell_type": "code",
   "execution_count": 24,
   "metadata": {},
   "outputs": [
    {
     "output_type": "stream",
     "name": "stdout",
     "text": [
      "Topic 0: \n游戏 海战 玩 经典 海战 游戏 老 玩家 \nTopic 1: \n经典 产品 免费 获取 获取 获取 产品 免费 延续 \n"
     ]
    }
   ],
   "source": [
    "for i, comp in enumerate(svd_model.components_):\n",
    "    terms_comp = zip(terms, comp)\n",
    "    sorted_terms = sorted(terms_comp, key=lambda x:x[1], reverse=True)[:7]\n",
    "    print(\"Topic \"+str(i)+\": \")\n",
    "    for t in sorted_terms:\n",
    "        print(t[0], end=' ')\n",
    "    print()"
   ]
  },
  {
   "source": [
    "# 可视化"
   ],
   "cell_type": "markdown",
   "metadata": {}
  },
  {
   "cell_type": "code",
   "execution_count": 26,
   "metadata": {},
   "outputs": [
    {
     "output_type": "display_data",
     "data": {
      "text/plain": "<Figure size 504x360 with 1 Axes>",
      "image/svg+xml": "<?xml version=\"1.0\" encoding=\"utf-8\" standalone=\"no\"?>\r\n<!DOCTYPE svg PUBLIC \"-//W3C//DTD SVG 1.1//EN\"\r\n  \"http://www.w3.org/Graphics/SVG/1.1/DTD/svg11.dtd\">\r\n<!-- Created with matplotlib (https://matplotlib.org/) -->\r\n<svg height=\"302.878125pt\" version=\"1.1\" viewBox=\"0 0 426.742188 302.878125\" width=\"426.742188pt\" xmlns=\"http://www.w3.org/2000/svg\" xmlns:xlink=\"http://www.w3.org/1999/xlink\">\r\n <defs>\r\n  <style type=\"text/css\">\r\n*{stroke-linecap:butt;stroke-linejoin:round;}\r\n  </style>\r\n </defs>\r\n <g id=\"figure_1\">\r\n  <g id=\"patch_1\">\r\n   <path d=\"M 0 302.878125 \r\nL 426.742188 302.878125 \r\nL 426.742188 0 \r\nL 0 0 \r\nz\r\n\" style=\"fill:none;\"/>\r\n  </g>\r\n  <g id=\"axes_1\">\r\n   <g id=\"patch_2\">\r\n    <path d=\"M 28.942188 279 \r\nL 419.542188 279 \r\nL 419.542188 7.2 \r\nL 28.942188 7.2 \r\nz\r\n\" style=\"fill:#ffffff;\"/>\r\n   </g>\r\n   <g id=\"PathCollection_1\">\r\n    <defs>\r\n     <path d=\"M 0 1.581139 \r\nC 0.419323 1.581139 0.821528 1.41454 1.118034 1.118034 \r\nC 1.41454 0.821528 1.581139 0.419323 1.581139 0 \r\nC 1.581139 -0.419323 1.41454 -0.821528 1.118034 -1.118034 \r\nC 0.821528 -1.41454 0.419323 -1.581139 0 -1.581139 \r\nC -0.419323 -1.581139 -0.821528 -1.41454 -1.118034 -1.118034 \r\nC -1.41454 -0.821528 -1.581139 -0.419323 -1.581139 0 \r\nC -1.581139 0.419323 -1.41454 0.821528 -1.118034 1.118034 \r\nC -0.821528 1.41454 -0.419323 1.581139 0 1.581139 \r\nz\r\n\" id=\"C0_0_18287f45c1\"/>\r\n    </defs>\r\n    <g clip-path=\"url(#p98e9cb3f53)\">\r\n     <use style=\"fill:#1f77b4;\" x=\"58.172228\" xlink:href=\"#C0_0_18287f45c1\" y=\"128.374451\"/>\r\n    </g>\r\n    <g clip-path=\"url(#p98e9cb3f53)\">\r\n     <use style=\"fill:#1f77b4;\" x=\"318.819495\" xlink:href=\"#C0_0_18287f45c1\" y=\"159.413668\"/>\r\n    </g>\r\n    <g clip-path=\"url(#p98e9cb3f53)\">\r\n     <use style=\"fill:#1f77b4;\" x=\"179.023723\" xlink:href=\"#C0_0_18287f45c1\" y=\"266.645455\"/>\r\n    </g>\r\n    <g clip-path=\"url(#p98e9cb3f53)\">\r\n     <use style=\"fill:#1f77b4;\" x=\"56.54893\" xlink:href=\"#C0_0_18287f45c1\" y=\"71.760934\"/>\r\n    </g>\r\n    <g clip-path=\"url(#p98e9cb3f53)\">\r\n     <use style=\"fill:#1f77b4;\" x=\"208.83832\" xlink:href=\"#C0_0_18287f45c1\" y=\"111.324641\"/>\r\n    </g>\r\n    <g clip-path=\"url(#p98e9cb3f53)\">\r\n     <use style=\"fill:#1f77b4;\" x=\"123.370122\" xlink:href=\"#C0_0_18287f45c1\" y=\"187.985056\"/>\r\n    </g>\r\n    <g clip-path=\"url(#p98e9cb3f53)\">\r\n     <use style=\"fill:#1f77b4;\" x=\"126.378294\" xlink:href=\"#C0_0_18287f45c1\" y=\"191.62836\"/>\r\n    </g>\r\n    <g clip-path=\"url(#p98e9cb3f53)\">\r\n     <use style=\"fill:#1f77b4;\" x=\"198.87172\" xlink:href=\"#C0_0_18287f45c1\" y=\"263.48156\"/>\r\n    </g>\r\n    <g clip-path=\"url(#p98e9cb3f53)\">\r\n     <use style=\"fill:#1f77b4;\" x=\"145.528293\" xlink:href=\"#C0_0_18287f45c1\" y=\"236.744806\"/>\r\n    </g>\r\n    <g clip-path=\"url(#p98e9cb3f53)\">\r\n     <use style=\"fill:#1f77b4;\" x=\"151.211821\" xlink:href=\"#C0_0_18287f45c1\" y=\"166.360505\"/>\r\n    </g>\r\n    <g clip-path=\"url(#p98e9cb3f53)\">\r\n     <use style=\"fill:#1f77b4;\" x=\"127.169822\" xlink:href=\"#C0_0_18287f45c1\" y=\"226.106955\"/>\r\n    </g>\r\n    <g clip-path=\"url(#p98e9cb3f53)\">\r\n     <use style=\"fill:#1f77b4;\" x=\"211.419534\" xlink:href=\"#C0_0_18287f45c1\" y=\"215.592148\"/>\r\n    </g>\r\n    <g clip-path=\"url(#p98e9cb3f53)\">\r\n     <use style=\"fill:#1f77b4;\" x=\"65.538779\" xlink:href=\"#C0_0_18287f45c1\" y=\"95.197862\"/>\r\n    </g>\r\n    <g clip-path=\"url(#p98e9cb3f53)\">\r\n     <use style=\"fill:#1f77b4;\" x=\"153.600766\" xlink:href=\"#C0_0_18287f45c1\" y=\"184.047775\"/>\r\n    </g>\r\n    <g clip-path=\"url(#p98e9cb3f53)\">\r\n     <use style=\"fill:#1f77b4;\" x=\"190.011876\" xlink:href=\"#C0_0_18287f45c1\" y=\"229.046124\"/>\r\n    </g>\r\n    <g clip-path=\"url(#p98e9cb3f53)\">\r\n     <use style=\"fill:#1f77b4;\" x=\"158.240106\" xlink:href=\"#C0_0_18287f45c1\" y=\"262.144842\"/>\r\n    </g>\r\n    <g clip-path=\"url(#p98e9cb3f53)\">\r\n     <use style=\"fill:#1f77b4;\" x=\"268.759783\" xlink:href=\"#C0_0_18287f45c1\" y=\"179.720815\"/>\r\n    </g>\r\n    <g clip-path=\"url(#p98e9cb3f53)\">\r\n     <use style=\"fill:#1f77b4;\" x=\"79.638653\" xlink:href=\"#C0_0_18287f45c1\" y=\"146.495673\"/>\r\n    </g>\r\n    <g clip-path=\"url(#p98e9cb3f53)\">\r\n     <use style=\"fill:#1f77b4;\" x=\"64.534235\" xlink:href=\"#C0_0_18287f45c1\" y=\"167.330145\"/>\r\n    </g>\r\n    <g clip-path=\"url(#p98e9cb3f53)\">\r\n     <use style=\"fill:#1f77b4;\" x=\"109.531622\" xlink:href=\"#C0_0_18287f45c1\" y=\"167.420111\"/>\r\n    </g>\r\n    <g clip-path=\"url(#p98e9cb3f53)\">\r\n     <use style=\"fill:#1f77b4;\" x=\"177.555711\" xlink:href=\"#C0_0_18287f45c1\" y=\"96.018189\"/>\r\n    </g>\r\n    <g clip-path=\"url(#p98e9cb3f53)\">\r\n     <use style=\"fill:#1f77b4;\" x=\"198.72529\" xlink:href=\"#C0_0_18287f45c1\" y=\"43.637709\"/>\r\n    </g>\r\n    <g clip-path=\"url(#p98e9cb3f53)\">\r\n     <use style=\"fill:#1f77b4;\" x=\"130.347355\" xlink:href=\"#C0_0_18287f45c1\" y=\"245.580165\"/>\r\n    </g>\r\n    <g clip-path=\"url(#p98e9cb3f53)\">\r\n     <use style=\"fill:#1f77b4;\" x=\"224.393736\" xlink:href=\"#C0_0_18287f45c1\" y=\"235.661686\"/>\r\n    </g>\r\n    <g clip-path=\"url(#p98e9cb3f53)\">\r\n     <use style=\"fill:#1f77b4;\" x=\"94.481321\" xlink:href=\"#C0_0_18287f45c1\" y=\"202.223665\"/>\r\n    </g>\r\n    <g clip-path=\"url(#p98e9cb3f53)\">\r\n     <use style=\"fill:#1f77b4;\" x=\"103.042603\" xlink:href=\"#C0_0_18287f45c1\" y=\"176.868577\"/>\r\n    </g>\r\n    <g clip-path=\"url(#p98e9cb3f53)\">\r\n     <use style=\"fill:#1f77b4;\" x=\"119.531721\" xlink:href=\"#C0_0_18287f45c1\" y=\"165.976769\"/>\r\n    </g>\r\n    <g clip-path=\"url(#p98e9cb3f53)\">\r\n     <use style=\"fill:#1f77b4;\" x=\"223.566724\" xlink:href=\"#C0_0_18287f45c1\" y=\"145.155629\"/>\r\n    </g>\r\n    <g clip-path=\"url(#p98e9cb3f53)\">\r\n     <use style=\"fill:#1f77b4;\" x=\"223.138459\" xlink:href=\"#C0_0_18287f45c1\" y=\"231.441213\"/>\r\n    </g>\r\n    <g clip-path=\"url(#p98e9cb3f53)\">\r\n     <use style=\"fill:#1f77b4;\" x=\"306.279098\" xlink:href=\"#C0_0_18287f45c1\" y=\"143.408204\"/>\r\n    </g>\r\n    <g clip-path=\"url(#p98e9cb3f53)\">\r\n     <use style=\"fill:#1f77b4;\" x=\"88.550051\" xlink:href=\"#C0_0_18287f45c1\" y=\"137.205263\"/>\r\n    </g>\r\n    <g clip-path=\"url(#p98e9cb3f53)\">\r\n     <use style=\"fill:#1f77b4;\" x=\"54.513363\" xlink:href=\"#C0_0_18287f45c1\" y=\"99.82061\"/>\r\n    </g>\r\n    <g clip-path=\"url(#p98e9cb3f53)\">\r\n     <use style=\"fill:#1f77b4;\" x=\"184.73888\" xlink:href=\"#C0_0_18287f45c1\" y=\"51.280445\"/>\r\n    </g>\r\n    <g clip-path=\"url(#p98e9cb3f53)\">\r\n     <use style=\"fill:#1f77b4;\" x=\"188.263886\" xlink:href=\"#C0_0_18287f45c1\" y=\"68.965264\"/>\r\n    </g>\r\n    <g clip-path=\"url(#p98e9cb3f53)\">\r\n     <use style=\"fill:#1f77b4;\" x=\"260.64325\" xlink:href=\"#C0_0_18287f45c1\" y=\"144.585217\"/>\r\n    </g>\r\n    <g clip-path=\"url(#p98e9cb3f53)\">\r\n     <use style=\"fill:#1f77b4;\" x=\"172.91057\" xlink:href=\"#C0_0_18287f45c1\" y=\"248.941986\"/>\r\n    </g>\r\n    <g clip-path=\"url(#p98e9cb3f53)\">\r\n     <use style=\"fill:#1f77b4;\" x=\"354.214572\" xlink:href=\"#C0_0_18287f45c1\" y=\"154.179191\"/>\r\n    </g>\r\n    <g clip-path=\"url(#p98e9cb3f53)\">\r\n     <use style=\"fill:#1f77b4;\" x=\"114.384813\" xlink:href=\"#C0_0_18287f45c1\" y=\"152.576094\"/>\r\n    </g>\r\n    <g clip-path=\"url(#p98e9cb3f53)\">\r\n     <use style=\"fill:#1f77b4;\" x=\"275.068734\" xlink:href=\"#C0_0_18287f45c1\" y=\"195.393995\"/>\r\n    </g>\r\n    <g clip-path=\"url(#p98e9cb3f53)\">\r\n     <use style=\"fill:#1f77b4;\" x=\"181.416043\" xlink:href=\"#C0_0_18287f45c1\" y=\"32.600823\"/>\r\n    </g>\r\n    <g clip-path=\"url(#p98e9cb3f53)\">\r\n     <use style=\"fill:#1f77b4;\" x=\"198.312335\" xlink:href=\"#C0_0_18287f45c1\" y=\"249.664542\"/>\r\n    </g>\r\n    <g clip-path=\"url(#p98e9cb3f53)\">\r\n     <use style=\"fill:#1f77b4;\" x=\"192.217671\" xlink:href=\"#C0_0_18287f45c1\" y=\"183.176931\"/>\r\n    </g>\r\n    <g clip-path=\"url(#p98e9cb3f53)\">\r\n     <use style=\"fill:#1f77b4;\" x=\"124.364794\" xlink:href=\"#C0_0_18287f45c1\" y=\"233.118123\"/>\r\n    </g>\r\n    <g clip-path=\"url(#p98e9cb3f53)\">\r\n     <use style=\"fill:#1f77b4;\" x=\"258.488583\" xlink:href=\"#C0_0_18287f45c1\" y=\"199.603269\"/>\r\n    </g>\r\n    <g clip-path=\"url(#p98e9cb3f53)\">\r\n     <use style=\"fill:#1f77b4;\" x=\"227.282137\" xlink:href=\"#C0_0_18287f45c1\" y=\"210.969031\"/>\r\n    </g>\r\n    <g clip-path=\"url(#p98e9cb3f53)\">\r\n     <use style=\"fill:#1f77b4;\" x=\"70.841621\" xlink:href=\"#C0_0_18287f45c1\" y=\"75.548996\"/>\r\n    </g>\r\n    <g clip-path=\"url(#p98e9cb3f53)\">\r\n     <use style=\"fill:#1f77b4;\" x=\"48.465909\" xlink:href=\"#C0_0_18287f45c1\" y=\"147.383378\"/>\r\n    </g>\r\n    <g clip-path=\"url(#p98e9cb3f53)\">\r\n     <use style=\"fill:#1f77b4;\" x=\"380.443169\" xlink:href=\"#C0_0_18287f45c1\" y=\"181.123607\"/>\r\n    </g>\r\n    <g clip-path=\"url(#p98e9cb3f53)\">\r\n     <use style=\"fill:#1f77b4;\" x=\"159.140821\" xlink:href=\"#C0_0_18287f45c1\" y=\"221.289358\"/>\r\n    </g>\r\n    <g clip-path=\"url(#p98e9cb3f53)\">\r\n     <use style=\"fill:#1f77b4;\" x=\"383.665662\" xlink:href=\"#C0_0_18287f45c1\" y=\"192.600592\"/>\r\n    </g>\r\n    <g clip-path=\"url(#p98e9cb3f53)\">\r\n     <use style=\"fill:#1f77b4;\" x=\"237.497195\" xlink:href=\"#C0_0_18287f45c1\" y=\"223.863773\"/>\r\n    </g>\r\n    <g clip-path=\"url(#p98e9cb3f53)\">\r\n     <use style=\"fill:#1f77b4;\" x=\"46.696733\" xlink:href=\"#C0_0_18287f45c1\" y=\"101.649111\"/>\r\n    </g>\r\n    <g clip-path=\"url(#p98e9cb3f53)\">\r\n     <use style=\"fill:#1f77b4;\" x=\"108.333367\" xlink:href=\"#C0_0_18287f45c1\" y=\"203.415726\"/>\r\n    </g>\r\n    <g clip-path=\"url(#p98e9cb3f53)\">\r\n     <use style=\"fill:#1f77b4;\" x=\"143.835807\" xlink:href=\"#C0_0_18287f45c1\" y=\"102.380816\"/>\r\n    </g>\r\n    <g clip-path=\"url(#p98e9cb3f53)\">\r\n     <use style=\"fill:#1f77b4;\" x=\"70.845475\" xlink:href=\"#C0_0_18287f45c1\" y=\"136.31112\"/>\r\n    </g>\r\n    <g clip-path=\"url(#p98e9cb3f53)\">\r\n     <use style=\"fill:#1f77b4;\" x=\"218.77785\" xlink:href=\"#C0_0_18287f45c1\" y=\"233.61427\"/>\r\n    </g>\r\n    <g clip-path=\"url(#p98e9cb3f53)\">\r\n     <use style=\"fill:#1f77b4;\" x=\"56.692685\" xlink:href=\"#C0_0_18287f45c1\" y=\"149.149279\"/>\r\n    </g>\r\n    <g clip-path=\"url(#p98e9cb3f53)\">\r\n     <use style=\"fill:#1f77b4;\" x=\"401.787642\" xlink:href=\"#C0_0_18287f45c1\" y=\"184.653549\"/>\r\n    </g>\r\n    <g clip-path=\"url(#p98e9cb3f53)\">\r\n     <use style=\"fill:#1f77b4;\" x=\"287.507522\" xlink:href=\"#C0_0_18287f45c1\" y=\"143.477124\"/>\r\n    </g>\r\n    <g clip-path=\"url(#p98e9cb3f53)\">\r\n     <use style=\"fill:#1f77b4;\" x=\"54.478369\" xlink:href=\"#C0_0_18287f45c1\" y=\"71.157196\"/>\r\n    </g>\r\n    <g clip-path=\"url(#p98e9cb3f53)\">\r\n     <use style=\"fill:#1f77b4;\" x=\"171.004036\" xlink:href=\"#C0_0_18287f45c1\" y=\"43.521682\"/>\r\n    </g>\r\n    <g clip-path=\"url(#p98e9cb3f53)\">\r\n     <use style=\"fill:#1f77b4;\" x=\"395.473783\" xlink:href=\"#C0_0_18287f45c1\" y=\"183.599621\"/>\r\n    </g>\r\n    <g clip-path=\"url(#p98e9cb3f53)\">\r\n     <use style=\"fill:#1f77b4;\" x=\"246.657068\" xlink:href=\"#C0_0_18287f45c1\" y=\"168.896912\"/>\r\n    </g>\r\n    <g clip-path=\"url(#p98e9cb3f53)\">\r\n     <use style=\"fill:#1f77b4;\" x=\"179.958418\" xlink:href=\"#C0_0_18287f45c1\" y=\"241.304378\"/>\r\n    </g>\r\n    <g clip-path=\"url(#p98e9cb3f53)\">\r\n     <use style=\"fill:#1f77b4;\" x=\"300.631419\" xlink:href=\"#C0_0_18287f45c1\" y=\"138.383348\"/>\r\n    </g>\r\n    <g clip-path=\"url(#p98e9cb3f53)\">\r\n     <use style=\"fill:#1f77b4;\" x=\"171.22233\" xlink:href=\"#C0_0_18287f45c1\" y=\"25.787339\"/>\r\n    </g>\r\n    <g clip-path=\"url(#p98e9cb3f53)\">\r\n     <use style=\"fill:#1f77b4;\" x=\"222.505784\" xlink:href=\"#C0_0_18287f45c1\" y=\"200.635315\"/>\r\n    </g>\r\n    <g clip-path=\"url(#p98e9cb3f53)\">\r\n     <use style=\"fill:#1f77b4;\" x=\"297.784098\" xlink:href=\"#C0_0_18287f45c1\" y=\"157.164399\"/>\r\n    </g>\r\n    <g clip-path=\"url(#p98e9cb3f53)\">\r\n     <use style=\"fill:#1f77b4;\" x=\"401.263442\" xlink:href=\"#C0_0_18287f45c1\" y=\"164.767316\"/>\r\n    </g>\r\n    <g clip-path=\"url(#p98e9cb3f53)\">\r\n     <use style=\"fill:#1f77b4;\" x=\"109.305029\" xlink:href=\"#C0_0_18287f45c1\" y=\"215.864545\"/>\r\n    </g>\r\n    <g clip-path=\"url(#p98e9cb3f53)\">\r\n     <use style=\"fill:#1f77b4;\" x=\"75.490893\" xlink:href=\"#C0_0_18287f45c1\" y=\"92.087237\"/>\r\n    </g>\r\n    <g clip-path=\"url(#p98e9cb3f53)\">\r\n     <use style=\"fill:#1f77b4;\" x=\"143.315411\" xlink:href=\"#C0_0_18287f45c1\" y=\"200.092879\"/>\r\n    </g>\r\n    <g clip-path=\"url(#p98e9cb3f53)\">\r\n     <use style=\"fill:#1f77b4;\" x=\"375.849622\" xlink:href=\"#C0_0_18287f45c1\" y=\"171.299379\"/>\r\n    </g>\r\n    <g clip-path=\"url(#p98e9cb3f53)\">\r\n     <use style=\"fill:#1f77b4;\" x=\"392.306648\" xlink:href=\"#C0_0_18287f45c1\" y=\"197.505713\"/>\r\n    </g>\r\n    <g clip-path=\"url(#p98e9cb3f53)\">\r\n     <use style=\"fill:#1f77b4;\" x=\"173.04342\" xlink:href=\"#C0_0_18287f45c1\" y=\"78.773741\"/>\r\n    </g>\r\n    <g clip-path=\"url(#p98e9cb3f53)\">\r\n     <use style=\"fill:#1f77b4;\" x=\"160.505153\" xlink:href=\"#C0_0_18287f45c1\" y=\"88.762653\"/>\r\n    </g>\r\n    <g clip-path=\"url(#p98e9cb3f53)\">\r\n     <use style=\"fill:#1f77b4;\" x=\"367.414213\" xlink:href=\"#C0_0_18287f45c1\" y=\"147.538315\"/>\r\n    </g>\r\n    <g clip-path=\"url(#p98e9cb3f53)\">\r\n     <use style=\"fill:#1f77b4;\" x=\"203.068263\" xlink:href=\"#C0_0_18287f45c1\" y=\"76.980611\"/>\r\n    </g>\r\n    <g clip-path=\"url(#p98e9cb3f53)\">\r\n     <use style=\"fill:#1f77b4;\" x=\"390.602109\" xlink:href=\"#C0_0_18287f45c1\" y=\"165.512545\"/>\r\n    </g>\r\n    <g clip-path=\"url(#p98e9cb3f53)\">\r\n     <use style=\"fill:#1f77b4;\" x=\"298.312761\" xlink:href=\"#C0_0_18287f45c1\" y=\"127.482413\"/>\r\n    </g>\r\n    <g clip-path=\"url(#p98e9cb3f53)\">\r\n     <use style=\"fill:#1f77b4;\" x=\"376.818373\" xlink:href=\"#C0_0_18287f45c1\" y=\"142.033061\"/>\r\n    </g>\r\n    <g clip-path=\"url(#p98e9cb3f53)\">\r\n     <use style=\"fill:#1f77b4;\" x=\"158.531247\" xlink:href=\"#C0_0_18287f45c1\" y=\"95.814785\"/>\r\n    </g>\r\n    <g clip-path=\"url(#p98e9cb3f53)\">\r\n     <use style=\"fill:#1f77b4;\" x=\"85.599871\" xlink:href=\"#C0_0_18287f45c1\" y=\"165.636188\"/>\r\n    </g>\r\n    <g clip-path=\"url(#p98e9cb3f53)\">\r\n     <use style=\"fill:#1f77b4;\" x=\"129.164479\" xlink:href=\"#C0_0_18287f45c1\" y=\"121.560226\"/>\r\n    </g>\r\n    <g clip-path=\"url(#p98e9cb3f53)\">\r\n     <use style=\"fill:#1f77b4;\" x=\"186.892603\" xlink:href=\"#C0_0_18287f45c1\" y=\"23.38889\"/>\r\n    </g>\r\n    <g clip-path=\"url(#p98e9cb3f53)\">\r\n     <use style=\"fill:#1f77b4;\" x=\"392.477358\" xlink:href=\"#C0_0_18287f45c1\" y=\"157.593696\"/>\r\n    </g>\r\n    <g clip-path=\"url(#p98e9cb3f53)\">\r\n     <use style=\"fill:#1f77b4;\" x=\"241.706772\" xlink:href=\"#C0_0_18287f45c1\" y=\"150.551023\"/>\r\n    </g>\r\n    <g clip-path=\"url(#p98e9cb3f53)\">\r\n     <use style=\"fill:#1f77b4;\" x=\"254.477077\" xlink:href=\"#C0_0_18287f45c1\" y=\"200.973704\"/>\r\n    </g>\r\n    <g clip-path=\"url(#p98e9cb3f53)\">\r\n     <use style=\"fill:#1f77b4;\" x=\"178.462345\" xlink:href=\"#C0_0_18287f45c1\" y=\"19.554545\"/>\r\n    </g>\r\n    <g clip-path=\"url(#p98e9cb3f53)\">\r\n     <use style=\"fill:#1f77b4;\" x=\"174.994904\" xlink:href=\"#C0_0_18287f45c1\" y=\"167.801771\"/>\r\n    </g>\r\n    <g clip-path=\"url(#p98e9cb3f53)\">\r\n     <use style=\"fill:#1f77b4;\" x=\"223.306526\" xlink:href=\"#C0_0_18287f45c1\" y=\"168.090748\"/>\r\n    </g>\r\n    <g clip-path=\"url(#p98e9cb3f53)\">\r\n     <use style=\"fill:#1f77b4;\" x=\"336.277705\" xlink:href=\"#C0_0_18287f45c1\" y=\"116.594168\"/>\r\n    </g>\r\n    <g clip-path=\"url(#p98e9cb3f53)\">\r\n     <use style=\"fill:#1f77b4;\" x=\"72.249629\" xlink:href=\"#C0_0_18287f45c1\" y=\"95.0645\"/>\r\n    </g>\r\n    <g clip-path=\"url(#p98e9cb3f53)\">\r\n     <use style=\"fill:#1f77b4;\" x=\"347.119814\" xlink:href=\"#C0_0_18287f45c1\" y=\"138.447904\"/>\r\n    </g>\r\n    <g clip-path=\"url(#p98e9cb3f53)\">\r\n     <use style=\"fill:#1f77b4;\" x=\"191.806194\" xlink:href=\"#C0_0_18287f45c1\" y=\"115.654237\"/>\r\n    </g>\r\n    <g clip-path=\"url(#p98e9cb3f53)\">\r\n     <use style=\"fill:#1f77b4;\" x=\"319.036711\" xlink:href=\"#C0_0_18287f45c1\" y=\"132.426816\"/>\r\n    </g>\r\n    <g clip-path=\"url(#p98e9cb3f53)\">\r\n     <use style=\"fill:#1f77b4;\" x=\"59.898555\" xlink:href=\"#C0_0_18287f45c1\" y=\"162.31911\"/>\r\n    </g>\r\n    <g clip-path=\"url(#p98e9cb3f53)\">\r\n     <use style=\"fill:#1f77b4;\" x=\"140.047524\" xlink:href=\"#C0_0_18287f45c1\" y=\"175.146927\"/>\r\n    </g>\r\n    <g clip-path=\"url(#p98e9cb3f53)\">\r\n     <use style=\"fill:#1f77b4;\" x=\"254.095198\" xlink:href=\"#C0_0_18287f45c1\" y=\"161.59042\"/>\r\n    </g>\r\n    <g clip-path=\"url(#p98e9cb3f53)\">\r\n     <use style=\"fill:#1f77b4;\" x=\"211.073296\" xlink:href=\"#C0_0_18287f45c1\" y=\"187.990927\"/>\r\n    </g>\r\n    <g clip-path=\"url(#p98e9cb3f53)\">\r\n     <use style=\"fill:#1f77b4;\" x=\"330.562231\" xlink:href=\"#C0_0_18287f45c1\" y=\"135.48003\"/>\r\n    </g>\r\n    <g clip-path=\"url(#p98e9cb3f53)\">\r\n     <use style=\"fill:#1f77b4;\" x=\"339.924639\" xlink:href=\"#C0_0_18287f45c1\" y=\"144.404766\"/>\r\n    </g>\r\n    <g clip-path=\"url(#p98e9cb3f53)\">\r\n     <use style=\"fill:#1f77b4;\" x=\"159.554945\" xlink:href=\"#C0_0_18287f45c1\" y=\"236.461064\"/>\r\n    </g>\r\n    <g clip-path=\"url(#p98e9cb3f53)\">\r\n     <use style=\"fill:#1f77b4;\" x=\"79.866393\" xlink:href=\"#C0_0_18287f45c1\" y=\"112.242494\"/>\r\n    </g>\r\n    <g clip-path=\"url(#p98e9cb3f53)\">\r\n     <use style=\"fill:#1f77b4;\" x=\"331.979083\" xlink:href=\"#C0_0_18287f45c1\" y=\"153.749701\"/>\r\n    </g>\r\n    <g clip-path=\"url(#p98e9cb3f53)\">\r\n     <use style=\"fill:#1f77b4;\" x=\"188.545848\" xlink:href=\"#C0_0_18287f45c1\" y=\"26.396928\"/>\r\n    </g>\r\n   </g>\r\n   <g id=\"matplotlib.axis_1\">\r\n    <g id=\"xtick_1\">\r\n     <g id=\"line2d_1\">\r\n      <defs>\r\n       <path d=\"M 0 0 \r\nL 0 3.5 \r\n\" id=\"m57fcff2950\" style=\"stroke:#000000;stroke-width:0.8;\"/>\r\n      </defs>\r\n      <g>\r\n       <use style=\"stroke:#000000;stroke-width:0.8;\" x=\"77.302289\" xlink:href=\"#m57fcff2950\" y=\"279\"/>\r\n      </g>\r\n     </g>\r\n     <g id=\"text_1\">\r\n      <!-- −2 -->\r\n      <defs>\r\n       <path d=\"M 10.59375 35.5 \r\nL 73.1875 35.5 \r\nL 73.1875 27.203125 \r\nL 10.59375 27.203125 \r\nz\r\n\" id=\"DejaVuSans-8722\"/>\r\n       <path d=\"M 19.1875 8.296875 \r\nL 53.609375 8.296875 \r\nL 53.609375 0 \r\nL 7.328125 0 \r\nL 7.328125 8.296875 \r\nQ 12.9375 14.109375 22.625 23.890625 \r\nQ 32.328125 33.6875 34.8125 36.53125 \r\nQ 39.546875 41.84375 41.421875 45.53125 \r\nQ 43.3125 49.21875 43.3125 52.78125 \r\nQ 43.3125 58.59375 39.234375 62.25 \r\nQ 35.15625 65.921875 28.609375 65.921875 \r\nQ 23.96875 65.921875 18.8125 64.3125 \r\nQ 13.671875 62.703125 7.8125 59.421875 \r\nL 7.8125 69.390625 \r\nQ 13.765625 71.78125 18.9375 73 \r\nQ 24.125 74.21875 28.421875 74.21875 \r\nQ 39.75 74.21875 46.484375 68.546875 \r\nQ 53.21875 62.890625 53.21875 53.421875 \r\nQ 53.21875 48.921875 51.53125 44.890625 \r\nQ 49.859375 40.875 45.40625 35.40625 \r\nQ 44.1875 33.984375 37.640625 27.21875 \r\nQ 31.109375 20.453125 19.1875 8.296875 \r\nz\r\n\" id=\"DejaVuSans-50\"/>\r\n      </defs>\r\n      <g transform=\"translate(69.931196 293.598437)scale(0.1 -0.1)\">\r\n       <use xlink:href=\"#DejaVuSans-8722\"/>\r\n       <use x=\"83.789062\" xlink:href=\"#DejaVuSans-50\"/>\r\n      </g>\r\n     </g>\r\n    </g>\r\n    <g id=\"xtick_2\">\r\n     <g id=\"line2d_2\">\r\n      <g>\r\n       <use style=\"stroke:#000000;stroke-width:0.8;\" x=\"130.481832\" xlink:href=\"#m57fcff2950\" y=\"279\"/>\r\n      </g>\r\n     </g>\r\n     <g id=\"text_2\">\r\n      <!-- 0 -->\r\n      <defs>\r\n       <path d=\"M 31.78125 66.40625 \r\nQ 24.171875 66.40625 20.328125 58.90625 \r\nQ 16.5 51.421875 16.5 36.375 \r\nQ 16.5 21.390625 20.328125 13.890625 \r\nQ 24.171875 6.390625 31.78125 6.390625 \r\nQ 39.453125 6.390625 43.28125 13.890625 \r\nQ 47.125 21.390625 47.125 36.375 \r\nQ 47.125 51.421875 43.28125 58.90625 \r\nQ 39.453125 66.40625 31.78125 66.40625 \r\nz\r\nM 31.78125 74.21875 \r\nQ 44.046875 74.21875 50.515625 64.515625 \r\nQ 56.984375 54.828125 56.984375 36.375 \r\nQ 56.984375 17.96875 50.515625 8.265625 \r\nQ 44.046875 -1.421875 31.78125 -1.421875 \r\nQ 19.53125 -1.421875 13.0625 8.265625 \r\nQ 6.59375 17.96875 6.59375 36.375 \r\nQ 6.59375 54.828125 13.0625 64.515625 \r\nQ 19.53125 74.21875 31.78125 74.21875 \r\nz\r\n\" id=\"DejaVuSans-48\"/>\r\n      </defs>\r\n      <g transform=\"translate(127.300582 293.598437)scale(0.1 -0.1)\">\r\n       <use xlink:href=\"#DejaVuSans-48\"/>\r\n      </g>\r\n     </g>\r\n    </g>\r\n    <g id=\"xtick_3\">\r\n     <g id=\"line2d_3\">\r\n      <g>\r\n       <use style=\"stroke:#000000;stroke-width:0.8;\" x=\"183.661375\" xlink:href=\"#m57fcff2950\" y=\"279\"/>\r\n      </g>\r\n     </g>\r\n     <g id=\"text_3\">\r\n      <!-- 2 -->\r\n      <g transform=\"translate(180.480125 293.598437)scale(0.1 -0.1)\">\r\n       <use xlink:href=\"#DejaVuSans-50\"/>\r\n      </g>\r\n     </g>\r\n    </g>\r\n    <g id=\"xtick_4\">\r\n     <g id=\"line2d_4\">\r\n      <g>\r\n       <use style=\"stroke:#000000;stroke-width:0.8;\" x=\"236.840917\" xlink:href=\"#m57fcff2950\" y=\"279\"/>\r\n      </g>\r\n     </g>\r\n     <g id=\"text_4\">\r\n      <!-- 4 -->\r\n      <defs>\r\n       <path d=\"M 37.796875 64.3125 \r\nL 12.890625 25.390625 \r\nL 37.796875 25.390625 \r\nz\r\nM 35.203125 72.90625 \r\nL 47.609375 72.90625 \r\nL 47.609375 25.390625 \r\nL 58.015625 25.390625 \r\nL 58.015625 17.1875 \r\nL 47.609375 17.1875 \r\nL 47.609375 0 \r\nL 37.796875 0 \r\nL 37.796875 17.1875 \r\nL 4.890625 17.1875 \r\nL 4.890625 26.703125 \r\nz\r\n\" id=\"DejaVuSans-52\"/>\r\n      </defs>\r\n      <g transform=\"translate(233.659667 293.598437)scale(0.1 -0.1)\">\r\n       <use xlink:href=\"#DejaVuSans-52\"/>\r\n      </g>\r\n     </g>\r\n    </g>\r\n    <g id=\"xtick_5\">\r\n     <g id=\"line2d_5\">\r\n      <g>\r\n       <use style=\"stroke:#000000;stroke-width:0.8;\" x=\"290.02046\" xlink:href=\"#m57fcff2950\" y=\"279\"/>\r\n      </g>\r\n     </g>\r\n     <g id=\"text_5\">\r\n      <!-- 6 -->\r\n      <defs>\r\n       <path d=\"M 33.015625 40.375 \r\nQ 26.375 40.375 22.484375 35.828125 \r\nQ 18.609375 31.296875 18.609375 23.390625 \r\nQ 18.609375 15.53125 22.484375 10.953125 \r\nQ 26.375 6.390625 33.015625 6.390625 \r\nQ 39.65625 6.390625 43.53125 10.953125 \r\nQ 47.40625 15.53125 47.40625 23.390625 \r\nQ 47.40625 31.296875 43.53125 35.828125 \r\nQ 39.65625 40.375 33.015625 40.375 \r\nz\r\nM 52.59375 71.296875 \r\nL 52.59375 62.3125 \r\nQ 48.875 64.0625 45.09375 64.984375 \r\nQ 41.3125 65.921875 37.59375 65.921875 \r\nQ 27.828125 65.921875 22.671875 59.328125 \r\nQ 17.53125 52.734375 16.796875 39.40625 \r\nQ 19.671875 43.65625 24.015625 45.921875 \r\nQ 28.375 48.1875 33.59375 48.1875 \r\nQ 44.578125 48.1875 50.953125 41.515625 \r\nQ 57.328125 34.859375 57.328125 23.390625 \r\nQ 57.328125 12.15625 50.6875 5.359375 \r\nQ 44.046875 -1.421875 33.015625 -1.421875 \r\nQ 20.359375 -1.421875 13.671875 8.265625 \r\nQ 6.984375 17.96875 6.984375 36.375 \r\nQ 6.984375 53.65625 15.1875 63.9375 \r\nQ 23.390625 74.21875 37.203125 74.21875 \r\nQ 40.921875 74.21875 44.703125 73.484375 \r\nQ 48.484375 72.75 52.59375 71.296875 \r\nz\r\n\" id=\"DejaVuSans-54\"/>\r\n      </defs>\r\n      <g transform=\"translate(286.83921 293.598437)scale(0.1 -0.1)\">\r\n       <use xlink:href=\"#DejaVuSans-54\"/>\r\n      </g>\r\n     </g>\r\n    </g>\r\n    <g id=\"xtick_6\">\r\n     <g id=\"line2d_6\">\r\n      <g>\r\n       <use style=\"stroke:#000000;stroke-width:0.8;\" x=\"343.200003\" xlink:href=\"#m57fcff2950\" y=\"279\"/>\r\n      </g>\r\n     </g>\r\n     <g id=\"text_6\">\r\n      <!-- 8 -->\r\n      <defs>\r\n       <path d=\"M 31.78125 34.625 \r\nQ 24.75 34.625 20.71875 30.859375 \r\nQ 16.703125 27.09375 16.703125 20.515625 \r\nQ 16.703125 13.921875 20.71875 10.15625 \r\nQ 24.75 6.390625 31.78125 6.390625 \r\nQ 38.8125 6.390625 42.859375 10.171875 \r\nQ 46.921875 13.96875 46.921875 20.515625 \r\nQ 46.921875 27.09375 42.890625 30.859375 \r\nQ 38.875 34.625 31.78125 34.625 \r\nz\r\nM 21.921875 38.8125 \r\nQ 15.578125 40.375 12.03125 44.71875 \r\nQ 8.5 49.078125 8.5 55.328125 \r\nQ 8.5 64.0625 14.71875 69.140625 \r\nQ 20.953125 74.21875 31.78125 74.21875 \r\nQ 42.671875 74.21875 48.875 69.140625 \r\nQ 55.078125 64.0625 55.078125 55.328125 \r\nQ 55.078125 49.078125 51.53125 44.71875 \r\nQ 48 40.375 41.703125 38.8125 \r\nQ 48.828125 37.15625 52.796875 32.3125 \r\nQ 56.78125 27.484375 56.78125 20.515625 \r\nQ 56.78125 9.90625 50.3125 4.234375 \r\nQ 43.84375 -1.421875 31.78125 -1.421875 \r\nQ 19.734375 -1.421875 13.25 4.234375 \r\nQ 6.78125 9.90625 6.78125 20.515625 \r\nQ 6.78125 27.484375 10.78125 32.3125 \r\nQ 14.796875 37.15625 21.921875 38.8125 \r\nz\r\nM 18.3125 54.390625 \r\nQ 18.3125 48.734375 21.84375 45.5625 \r\nQ 25.390625 42.390625 31.78125 42.390625 \r\nQ 38.140625 42.390625 41.71875 45.5625 \r\nQ 45.3125 48.734375 45.3125 54.390625 \r\nQ 45.3125 60.0625 41.71875 63.234375 \r\nQ 38.140625 66.40625 31.78125 66.40625 \r\nQ 25.390625 66.40625 21.84375 63.234375 \r\nQ 18.3125 60.0625 18.3125 54.390625 \r\nz\r\n\" id=\"DejaVuSans-56\"/>\r\n      </defs>\r\n      <g transform=\"translate(340.018753 293.598437)scale(0.1 -0.1)\">\r\n       <use xlink:href=\"#DejaVuSans-56\"/>\r\n      </g>\r\n     </g>\r\n    </g>\r\n    <g id=\"xtick_7\">\r\n     <g id=\"line2d_7\">\r\n      <g>\r\n       <use style=\"stroke:#000000;stroke-width:0.8;\" x=\"396.379545\" xlink:href=\"#m57fcff2950\" y=\"279\"/>\r\n      </g>\r\n     </g>\r\n     <g id=\"text_7\">\r\n      <!-- 10 -->\r\n      <defs>\r\n       <path d=\"M 12.40625 8.296875 \r\nL 28.515625 8.296875 \r\nL 28.515625 63.921875 \r\nL 10.984375 60.40625 \r\nL 10.984375 69.390625 \r\nL 28.421875 72.90625 \r\nL 38.28125 72.90625 \r\nL 38.28125 8.296875 \r\nL 54.390625 8.296875 \r\nL 54.390625 0 \r\nL 12.40625 0 \r\nz\r\n\" id=\"DejaVuSans-49\"/>\r\n      </defs>\r\n      <g transform=\"translate(390.017045 293.598437)scale(0.1 -0.1)\">\r\n       <use xlink:href=\"#DejaVuSans-49\"/>\r\n       <use x=\"63.623047\" xlink:href=\"#DejaVuSans-48\"/>\r\n      </g>\r\n     </g>\r\n    </g>\r\n   </g>\r\n   <g id=\"matplotlib.axis_2\">\r\n    <g id=\"ytick_1\">\r\n     <g id=\"line2d_8\">\r\n      <defs>\r\n       <path d=\"M 0 0 \r\nL -3.5 0 \r\n\" id=\"m9f1b8134d1\" style=\"stroke:#000000;stroke-width:0.8;\"/>\r\n      </defs>\r\n      <g>\r\n       <use style=\"stroke:#000000;stroke-width:0.8;\" x=\"28.942188\" xlink:href=\"#m9f1b8134d1\" y=\"260.920049\"/>\r\n      </g>\r\n     </g>\r\n     <g id=\"text_8\">\r\n      <!-- −1 -->\r\n      <g transform=\"translate(7.2 264.719268)scale(0.1 -0.1)\">\r\n       <use xlink:href=\"#DejaVuSans-8722\"/>\r\n       <use x=\"83.789062\" xlink:href=\"#DejaVuSans-49\"/>\r\n      </g>\r\n     </g>\r\n    </g>\r\n    <g id=\"ytick_2\">\r\n     <g id=\"line2d_9\">\r\n      <g>\r\n       <use style=\"stroke:#000000;stroke-width:0.8;\" x=\"28.942188\" xlink:href=\"#m9f1b8134d1\" y=\"219.467347\"/>\r\n      </g>\r\n     </g>\r\n     <g id=\"text_9\">\r\n      <!-- 0 -->\r\n      <g transform=\"translate(15.579688 223.266566)scale(0.1 -0.1)\">\r\n       <use xlink:href=\"#DejaVuSans-48\"/>\r\n      </g>\r\n     </g>\r\n    </g>\r\n    <g id=\"ytick_3\">\r\n     <g id=\"line2d_10\">\r\n      <g>\r\n       <use style=\"stroke:#000000;stroke-width:0.8;\" x=\"28.942188\" xlink:href=\"#m9f1b8134d1\" y=\"178.014645\"/>\r\n      </g>\r\n     </g>\r\n     <g id=\"text_10\">\r\n      <!-- 1 -->\r\n      <g transform=\"translate(15.579688 181.813864)scale(0.1 -0.1)\">\r\n       <use xlink:href=\"#DejaVuSans-49\"/>\r\n      </g>\r\n     </g>\r\n    </g>\r\n    <g id=\"ytick_4\">\r\n     <g id=\"line2d_11\">\r\n      <g>\r\n       <use style=\"stroke:#000000;stroke-width:0.8;\" x=\"28.942188\" xlink:href=\"#m9f1b8134d1\" y=\"136.561943\"/>\r\n      </g>\r\n     </g>\r\n     <g id=\"text_11\">\r\n      <!-- 2 -->\r\n      <g transform=\"translate(15.579688 140.361161)scale(0.1 -0.1)\">\r\n       <use xlink:href=\"#DejaVuSans-50\"/>\r\n      </g>\r\n     </g>\r\n    </g>\r\n    <g id=\"ytick_5\">\r\n     <g id=\"line2d_12\">\r\n      <g>\r\n       <use style=\"stroke:#000000;stroke-width:0.8;\" x=\"28.942188\" xlink:href=\"#m9f1b8134d1\" y=\"95.10924\"/>\r\n      </g>\r\n     </g>\r\n     <g id=\"text_12\">\r\n      <!-- 3 -->\r\n      <defs>\r\n       <path d=\"M 40.578125 39.3125 \r\nQ 47.65625 37.796875 51.625 33 \r\nQ 55.609375 28.21875 55.609375 21.1875 \r\nQ 55.609375 10.40625 48.1875 4.484375 \r\nQ 40.765625 -1.421875 27.09375 -1.421875 \r\nQ 22.515625 -1.421875 17.65625 -0.515625 \r\nQ 12.796875 0.390625 7.625 2.203125 \r\nL 7.625 11.71875 \r\nQ 11.71875 9.328125 16.59375 8.109375 \r\nQ 21.484375 6.890625 26.8125 6.890625 \r\nQ 36.078125 6.890625 40.9375 10.546875 \r\nQ 45.796875 14.203125 45.796875 21.1875 \r\nQ 45.796875 27.640625 41.28125 31.265625 \r\nQ 36.765625 34.90625 28.71875 34.90625 \r\nL 20.21875 34.90625 \r\nL 20.21875 43.015625 \r\nL 29.109375 43.015625 \r\nQ 36.375 43.015625 40.234375 45.921875 \r\nQ 44.09375 48.828125 44.09375 54.296875 \r\nQ 44.09375 59.90625 40.109375 62.90625 \r\nQ 36.140625 65.921875 28.71875 65.921875 \r\nQ 24.65625 65.921875 20.015625 65.03125 \r\nQ 15.375 64.15625 9.8125 62.3125 \r\nL 9.8125 71.09375 \r\nQ 15.4375 72.65625 20.34375 73.4375 \r\nQ 25.25 74.21875 29.59375 74.21875 \r\nQ 40.828125 74.21875 47.359375 69.109375 \r\nQ 53.90625 64.015625 53.90625 55.328125 \r\nQ 53.90625 49.265625 50.4375 45.09375 \r\nQ 46.96875 40.921875 40.578125 39.3125 \r\nz\r\n\" id=\"DejaVuSans-51\"/>\r\n      </defs>\r\n      <g transform=\"translate(15.579688 98.908459)scale(0.1 -0.1)\">\r\n       <use xlink:href=\"#DejaVuSans-51\"/>\r\n      </g>\r\n     </g>\r\n    </g>\r\n    <g id=\"ytick_6\">\r\n     <g id=\"line2d_13\">\r\n      <g>\r\n       <use style=\"stroke:#000000;stroke-width:0.8;\" x=\"28.942188\" xlink:href=\"#m9f1b8134d1\" y=\"53.656538\"/>\r\n      </g>\r\n     </g>\r\n     <g id=\"text_13\">\r\n      <!-- 4 -->\r\n      <g transform=\"translate(15.579688 57.455757)scale(0.1 -0.1)\">\r\n       <use xlink:href=\"#DejaVuSans-52\"/>\r\n      </g>\r\n     </g>\r\n    </g>\r\n    <g id=\"ytick_7\">\r\n     <g id=\"line2d_14\">\r\n      <g>\r\n       <use style=\"stroke:#000000;stroke-width:0.8;\" x=\"28.942188\" xlink:href=\"#m9f1b8134d1\" y=\"12.203836\"/>\r\n      </g>\r\n     </g>\r\n     <g id=\"text_14\">\r\n      <!-- 5 -->\r\n      <defs>\r\n       <path d=\"M 10.796875 72.90625 \r\nL 49.515625 72.90625 \r\nL 49.515625 64.59375 \r\nL 19.828125 64.59375 \r\nL 19.828125 46.734375 \r\nQ 21.96875 47.46875 24.109375 47.828125 \r\nQ 26.265625 48.1875 28.421875 48.1875 \r\nQ 40.625 48.1875 47.75 41.5 \r\nQ 54.890625 34.8125 54.890625 23.390625 \r\nQ 54.890625 11.625 47.5625 5.09375 \r\nQ 40.234375 -1.421875 26.90625 -1.421875 \r\nQ 22.3125 -1.421875 17.546875 -0.640625 \r\nQ 12.796875 0.140625 7.71875 1.703125 \r\nL 7.71875 11.625 \r\nQ 12.109375 9.234375 16.796875 8.0625 \r\nQ 21.484375 6.890625 26.703125 6.890625 \r\nQ 35.15625 6.890625 40.078125 11.328125 \r\nQ 45.015625 15.765625 45.015625 23.390625 \r\nQ 45.015625 31 40.078125 35.4375 \r\nQ 35.15625 39.890625 26.703125 39.890625 \r\nQ 22.75 39.890625 18.8125 39.015625 \r\nQ 14.890625 38.140625 10.796875 36.28125 \r\nz\r\n\" id=\"DejaVuSans-53\"/>\r\n      </defs>\r\n      <g transform=\"translate(15.579688 16.003055)scale(0.1 -0.1)\">\r\n       <use xlink:href=\"#DejaVuSans-53\"/>\r\n      </g>\r\n     </g>\r\n    </g>\r\n   </g>\r\n   <g id=\"patch_3\">\r\n    <path d=\"M 28.942188 279 \r\nL 28.942188 7.2 \r\n\" style=\"fill:none;stroke:#000000;stroke-linecap:square;stroke-linejoin:miter;stroke-width:0.8;\"/>\r\n   </g>\r\n   <g id=\"patch_4\">\r\n    <path d=\"M 419.542188 279 \r\nL 419.542188 7.2 \r\n\" style=\"fill:none;stroke:#000000;stroke-linecap:square;stroke-linejoin:miter;stroke-width:0.8;\"/>\r\n   </g>\r\n   <g id=\"patch_5\">\r\n    <path d=\"M 28.942187 279 \r\nL 419.542188 279 \r\n\" style=\"fill:none;stroke:#000000;stroke-linecap:square;stroke-linejoin:miter;stroke-width:0.8;\"/>\r\n   </g>\r\n   <g id=\"patch_6\">\r\n    <path d=\"M 28.942187 7.2 \r\nL 419.542188 7.2 \r\n\" style=\"fill:none;stroke:#000000;stroke-linecap:square;stroke-linejoin:miter;stroke-width:0.8;\"/>\r\n   </g>\r\n  </g>\r\n </g>\r\n <defs>\r\n  <clipPath id=\"p98e9cb3f53\">\r\n   <rect height=\"271.8\" width=\"390.6\" x=\"28.942188\" y=\"7.2\"/>\r\n  </clipPath>\r\n </defs>\r\n</svg>\r\n",
      "image/png": "[encoded data removed]"
     },
     "metadata": {
      "needs_background": "light"
     }
    }
   ],
   "source": [
    "import umap.umap_ as umap \n",
    "X_topics = svd_model.fit_transform(X)\n",
    "\n",
    "embedding = umap.UMAP(n_neighbors=20, min_dist=0.5, random_state=12).fit_transform(X_topics)\n",
    "\n",
    "plt.figure(figsize=(7,5))\n",
    "\n",
    "plt.scatter(embedding[:, 0], embedding[:, 1], s = 10, edgecolor='none')\n",
    "\n",
    "plt.show()"
   ]
  }
 ]
}